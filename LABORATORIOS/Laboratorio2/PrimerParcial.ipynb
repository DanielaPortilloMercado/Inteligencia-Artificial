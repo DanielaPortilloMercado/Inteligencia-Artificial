{
  "nbformat": 4,
  "nbformat_minor": 0,
  "metadata": {
    "colab": {
      "provenance": [],
      "authorship_tag": "ABX9TyPvYb6geubrf5oKyWTa1n+M",
      "include_colab_link": true
    },
    "kernelspec": {
      "name": "python3",
      "display_name": "Python 3"
    },
    "language_info": {
      "name": "python"
    }
  },
  "cells": [
    {
      "cell_type": "markdown",
      "metadata": {
        "id": "view-in-github",
        "colab_type": "text"
      },
      "source": [
        "<a href=\"https://colab.research.google.com/github/DanielaPortilloMercado/Inteligencia-Artificial/blob/main/LABORATORIOS/Laboratorio2/PrimerParcial.ipynb\" target=\"_parent\"><img src=\"https://colab.research.google.com/assets/colab-badge.svg\" alt=\"Open In Colab\"/></a>"
      ]
    },
    {
      "cell_type": "markdown",
      "source": [
        "1° PARCIAL\n",
        "\n",
        "REGRESION LINEAL MULTIPLE\n",
        "\n",
        "Nombre:Daniela Portillo Mercado\n",
        "\n",
        "Carrera: Ing de Sistemas\n",
        "\n",
        "link de datatset:\n",
        " https://data.melbourne.vic.gov.au/explore/dataset/pedestrian-counting-system-monthly-counts-per-hour/table/?sort=sensing_date"
      ],
      "metadata": {
        "id": "FenkL8fN_TqU"
      }
    },
    {
      "cell_type": "markdown",
      "source": [
        "# DATASET\n",
        "Análisis del Dataset:\n",
        "El dataset contiene las siguientes columnas:\n",
        "\n",
        "ID: Identificador único de la medición.\n",
        "\n",
        "Location_ID: Identificador del lugar donde se realizaron los conteos.\n",
        "\n",
        "Sensing_Date: Fecha y hora de la medición.\n",
        "\n",
        "HourDay: Hora del día en que se registraron los peatones.\n",
        "\n",
        "Direction_1: Número de peatones en una dirección.\n",
        "\n",
        "Direction_2: Número de peatones en la otra dirección.\n",
        "\n",
        "Total_of_Directions: Total de peatones en ambas direcciones.\n",
        "\n",
        "Sensor_Name: Nombre del sensor que hizo la medición.\n",
        "\n",
        "Location: Coordenadas geográficas del lugar de la medición."
      ],
      "metadata": {
        "id": "EVyny-fmNC1o"
      }
    },
    {
      "cell_type": "code",
      "source": [
        "# Librerías necesarias\n",
        "import os\n",
        "import numpy as np\n",
        "from matplotlib import pyplot as plt\n",
        "from mpl_toolkits.mplot3d import Axes3D\n",
        "import pandas as pd\n"
      ],
      "metadata": {
        "id": "sNMBQpIZXE8q"
      },
      "execution_count": null,
      "outputs": []
    },
    {
      "cell_type": "code",
      "source": [
        "# Montar Google Drive\n",
        "from google.colab import drive\n",
        "drive.mount('/content/gdrive')"
      ],
      "metadata": {
        "colab": {
          "base_uri": "https://localhost:8080/"
        },
        "id": "tJeki3L8XHOX",
        "outputId": "40987372-445c-41c2-e67f-500380de5950"
      },
      "execution_count": null,
      "outputs": [
        {
          "output_type": "stream",
          "name": "stdout",
          "text": [
            "Drive already mounted at /content/gdrive; to attempt to forcibly remount, call drive.mount(\"/content/gdrive\", force_remount=True).\n"
          ]
        }
      ]
    },
    {
      "cell_type": "markdown",
      "source": [
        "# Carga y visualización del dataset"
      ],
      "metadata": {
        "id": "olIBPpw-XMxh"
      }
    },
    {
      "cell_type": "code",
      "source": [
        "# Cargar el dataset en formato CSV desde Google Drive\n",
        "path = '/content/gdrive/MyDrive/pedestriancounting.csv'\n",
        "data = pd.read_csv(path)\n",
        "\n",
        "# Vista preliminar\n",
        "data.head()\n"
      ],
      "metadata": {
        "colab": {
          "base_uri": "https://localhost:8080/",
          "height": 313
        },
        "id": "AeVQAXyOXLlA",
        "outputId": "cc4465ca-1bc3-4545-f767-119eebda1103"
      },
      "execution_count": null,
      "outputs": [
        {
          "output_type": "execute_result",
          "data": {
            "text/plain": [
              "             ID  Location_ID Sensing_Date  HourDay  Direction_1  Direction_2  \\\n",
              "0  171820240125           17   2024-01-25       18          185          299   \n",
              "1  121320231230           12   2023-12-30       13          138          204   \n",
              "2  392320250308           39   2025-03-08       23           30           35   \n",
              "3  362220230122           36   2023-01-22       22           61           40   \n",
              "4  371920220424           37   2022-04-24       19          293          394   \n",
              "\n",
              "   Total_of_Directions Sensor_Name                    Location  \n",
              "0                  484     Col15_T  -37.81362543, 144.97323591  \n",
              "1                  342      NewQ_T  -37.81457988, 144.94292398  \n",
              "2                   65     AlfPl_T  -37.81379749, 144.96995745  \n",
              "3                  101     Que85_T  -37.81652527, 144.96121062  \n",
              "4                  687    Lyg260_T  -37.80107122, 144.96704554  "
            ],
            "text/html": [
              "\n",
              "  <div id=\"df-7f8ba7f5-46a3-4c51-be7a-2df0aa493856\" class=\"colab-df-container\">\n",
              "    <div>\n",
              "<style scoped>\n",
              "    .dataframe tbody tr th:only-of-type {\n",
              "        vertical-align: middle;\n",
              "    }\n",
              "\n",
              "    .dataframe tbody tr th {\n",
              "        vertical-align: top;\n",
              "    }\n",
              "\n",
              "    .dataframe thead th {\n",
              "        text-align: right;\n",
              "    }\n",
              "</style>\n",
              "<table border=\"1\" class=\"dataframe\">\n",
              "  <thead>\n",
              "    <tr style=\"text-align: right;\">\n",
              "      <th></th>\n",
              "      <th>ID</th>\n",
              "      <th>Location_ID</th>\n",
              "      <th>Sensing_Date</th>\n",
              "      <th>HourDay</th>\n",
              "      <th>Direction_1</th>\n",
              "      <th>Direction_2</th>\n",
              "      <th>Total_of_Directions</th>\n",
              "      <th>Sensor_Name</th>\n",
              "      <th>Location</th>\n",
              "    </tr>\n",
              "  </thead>\n",
              "  <tbody>\n",
              "    <tr>\n",
              "      <th>0</th>\n",
              "      <td>171820240125</td>\n",
              "      <td>17</td>\n",
              "      <td>2024-01-25</td>\n",
              "      <td>18</td>\n",
              "      <td>185</td>\n",
              "      <td>299</td>\n",
              "      <td>484</td>\n",
              "      <td>Col15_T</td>\n",
              "      <td>-37.81362543, 144.97323591</td>\n",
              "    </tr>\n",
              "    <tr>\n",
              "      <th>1</th>\n",
              "      <td>121320231230</td>\n",
              "      <td>12</td>\n",
              "      <td>2023-12-30</td>\n",
              "      <td>13</td>\n",
              "      <td>138</td>\n",
              "      <td>204</td>\n",
              "      <td>342</td>\n",
              "      <td>NewQ_T</td>\n",
              "      <td>-37.81457988, 144.94292398</td>\n",
              "    </tr>\n",
              "    <tr>\n",
              "      <th>2</th>\n",
              "      <td>392320250308</td>\n",
              "      <td>39</td>\n",
              "      <td>2025-03-08</td>\n",
              "      <td>23</td>\n",
              "      <td>30</td>\n",
              "      <td>35</td>\n",
              "      <td>65</td>\n",
              "      <td>AlfPl_T</td>\n",
              "      <td>-37.81379749, 144.96995745</td>\n",
              "    </tr>\n",
              "    <tr>\n",
              "      <th>3</th>\n",
              "      <td>362220230122</td>\n",
              "      <td>36</td>\n",
              "      <td>2023-01-22</td>\n",
              "      <td>22</td>\n",
              "      <td>61</td>\n",
              "      <td>40</td>\n",
              "      <td>101</td>\n",
              "      <td>Que85_T</td>\n",
              "      <td>-37.81652527, 144.96121062</td>\n",
              "    </tr>\n",
              "    <tr>\n",
              "      <th>4</th>\n",
              "      <td>371920220424</td>\n",
              "      <td>37</td>\n",
              "      <td>2022-04-24</td>\n",
              "      <td>19</td>\n",
              "      <td>293</td>\n",
              "      <td>394</td>\n",
              "      <td>687</td>\n",
              "      <td>Lyg260_T</td>\n",
              "      <td>-37.80107122, 144.96704554</td>\n",
              "    </tr>\n",
              "  </tbody>\n",
              "</table>\n",
              "</div>\n",
              "    <div class=\"colab-df-buttons\">\n",
              "\n",
              "  <div class=\"colab-df-container\">\n",
              "    <button class=\"colab-df-convert\" onclick=\"convertToInteractive('df-7f8ba7f5-46a3-4c51-be7a-2df0aa493856')\"\n",
              "            title=\"Convert this dataframe to an interactive table.\"\n",
              "            style=\"display:none;\">\n",
              "\n",
              "  <svg xmlns=\"http://www.w3.org/2000/svg\" height=\"24px\" viewBox=\"0 -960 960 960\">\n",
              "    <path d=\"M120-120v-720h720v720H120Zm60-500h600v-160H180v160Zm220 220h160v-160H400v160Zm0 220h160v-160H400v160ZM180-400h160v-160H180v160Zm440 0h160v-160H620v160ZM180-180h160v-160H180v160Zm440 0h160v-160H620v160Z\"/>\n",
              "  </svg>\n",
              "    </button>\n",
              "\n",
              "  <style>\n",
              "    .colab-df-container {\n",
              "      display:flex;\n",
              "      gap: 12px;\n",
              "    }\n",
              "\n",
              "    .colab-df-convert {\n",
              "      background-color: #E8F0FE;\n",
              "      border: none;\n",
              "      border-radius: 50%;\n",
              "      cursor: pointer;\n",
              "      display: none;\n",
              "      fill: #1967D2;\n",
              "      height: 32px;\n",
              "      padding: 0 0 0 0;\n",
              "      width: 32px;\n",
              "    }\n",
              "\n",
              "    .colab-df-convert:hover {\n",
              "      background-color: #E2EBFA;\n",
              "      box-shadow: 0px 1px 2px rgba(60, 64, 67, 0.3), 0px 1px 3px 1px rgba(60, 64, 67, 0.15);\n",
              "      fill: #174EA6;\n",
              "    }\n",
              "\n",
              "    .colab-df-buttons div {\n",
              "      margin-bottom: 4px;\n",
              "    }\n",
              "\n",
              "    [theme=dark] .colab-df-convert {\n",
              "      background-color: #3B4455;\n",
              "      fill: #D2E3FC;\n",
              "    }\n",
              "\n",
              "    [theme=dark] .colab-df-convert:hover {\n",
              "      background-color: #434B5C;\n",
              "      box-shadow: 0px 1px 3px 1px rgba(0, 0, 0, 0.15);\n",
              "      filter: drop-shadow(0px 1px 2px rgba(0, 0, 0, 0.3));\n",
              "      fill: #FFFFFF;\n",
              "    }\n",
              "  </style>\n",
              "\n",
              "    <script>\n",
              "      const buttonEl =\n",
              "        document.querySelector('#df-7f8ba7f5-46a3-4c51-be7a-2df0aa493856 button.colab-df-convert');\n",
              "      buttonEl.style.display =\n",
              "        google.colab.kernel.accessAllowed ? 'block' : 'none';\n",
              "\n",
              "      async function convertToInteractive(key) {\n",
              "        const element = document.querySelector('#df-7f8ba7f5-46a3-4c51-be7a-2df0aa493856');\n",
              "        const dataTable =\n",
              "          await google.colab.kernel.invokeFunction('convertToInteractive',\n",
              "                                                    [key], {});\n",
              "        if (!dataTable) return;\n",
              "\n",
              "        const docLinkHtml = 'Like what you see? Visit the ' +\n",
              "          '<a target=\"_blank\" href=https://colab.research.google.com/notebooks/data_table.ipynb>data table notebook</a>'\n",
              "          + ' to learn more about interactive tables.';\n",
              "        element.innerHTML = '';\n",
              "        dataTable['output_type'] = 'display_data';\n",
              "        await google.colab.output.renderOutput(dataTable, element);\n",
              "        const docLink = document.createElement('div');\n",
              "        docLink.innerHTML = docLinkHtml;\n",
              "        element.appendChild(docLink);\n",
              "      }\n",
              "    </script>\n",
              "  </div>\n",
              "\n",
              "\n",
              "<div id=\"df-9c1a0436-6b81-4c21-ac48-93afaa7ec537\">\n",
              "  <button class=\"colab-df-quickchart\" onclick=\"quickchart('df-9c1a0436-6b81-4c21-ac48-93afaa7ec537')\"\n",
              "            title=\"Suggest charts\"\n",
              "            style=\"display:none;\">\n",
              "\n",
              "<svg xmlns=\"http://www.w3.org/2000/svg\" height=\"24px\"viewBox=\"0 0 24 24\"\n",
              "     width=\"24px\">\n",
              "    <g>\n",
              "        <path d=\"M19 3H5c-1.1 0-2 .9-2 2v14c0 1.1.9 2 2 2h14c1.1 0 2-.9 2-2V5c0-1.1-.9-2-2-2zM9 17H7v-7h2v7zm4 0h-2V7h2v10zm4 0h-2v-4h2v4z\"/>\n",
              "    </g>\n",
              "</svg>\n",
              "  </button>\n",
              "\n",
              "<style>\n",
              "  .colab-df-quickchart {\n",
              "      --bg-color: #E8F0FE;\n",
              "      --fill-color: #1967D2;\n",
              "      --hover-bg-color: #E2EBFA;\n",
              "      --hover-fill-color: #174EA6;\n",
              "      --disabled-fill-color: #AAA;\n",
              "      --disabled-bg-color: #DDD;\n",
              "  }\n",
              "\n",
              "  [theme=dark] .colab-df-quickchart {\n",
              "      --bg-color: #3B4455;\n",
              "      --fill-color: #D2E3FC;\n",
              "      --hover-bg-color: #434B5C;\n",
              "      --hover-fill-color: #FFFFFF;\n",
              "      --disabled-bg-color: #3B4455;\n",
              "      --disabled-fill-color: #666;\n",
              "  }\n",
              "\n",
              "  .colab-df-quickchart {\n",
              "    background-color: var(--bg-color);\n",
              "    border: none;\n",
              "    border-radius: 50%;\n",
              "    cursor: pointer;\n",
              "    display: none;\n",
              "    fill: var(--fill-color);\n",
              "    height: 32px;\n",
              "    padding: 0;\n",
              "    width: 32px;\n",
              "  }\n",
              "\n",
              "  .colab-df-quickchart:hover {\n",
              "    background-color: var(--hover-bg-color);\n",
              "    box-shadow: 0 1px 2px rgba(60, 64, 67, 0.3), 0 1px 3px 1px rgba(60, 64, 67, 0.15);\n",
              "    fill: var(--button-hover-fill-color);\n",
              "  }\n",
              "\n",
              "  .colab-df-quickchart-complete:disabled,\n",
              "  .colab-df-quickchart-complete:disabled:hover {\n",
              "    background-color: var(--disabled-bg-color);\n",
              "    fill: var(--disabled-fill-color);\n",
              "    box-shadow: none;\n",
              "  }\n",
              "\n",
              "  .colab-df-spinner {\n",
              "    border: 2px solid var(--fill-color);\n",
              "    border-color: transparent;\n",
              "    border-bottom-color: var(--fill-color);\n",
              "    animation:\n",
              "      spin 1s steps(1) infinite;\n",
              "  }\n",
              "\n",
              "  @keyframes spin {\n",
              "    0% {\n",
              "      border-color: transparent;\n",
              "      border-bottom-color: var(--fill-color);\n",
              "      border-left-color: var(--fill-color);\n",
              "    }\n",
              "    20% {\n",
              "      border-color: transparent;\n",
              "      border-left-color: var(--fill-color);\n",
              "      border-top-color: var(--fill-color);\n",
              "    }\n",
              "    30% {\n",
              "      border-color: transparent;\n",
              "      border-left-color: var(--fill-color);\n",
              "      border-top-color: var(--fill-color);\n",
              "      border-right-color: var(--fill-color);\n",
              "    }\n",
              "    40% {\n",
              "      border-color: transparent;\n",
              "      border-right-color: var(--fill-color);\n",
              "      border-top-color: var(--fill-color);\n",
              "    }\n",
              "    60% {\n",
              "      border-color: transparent;\n",
              "      border-right-color: var(--fill-color);\n",
              "    }\n",
              "    80% {\n",
              "      border-color: transparent;\n",
              "      border-right-color: var(--fill-color);\n",
              "      border-bottom-color: var(--fill-color);\n",
              "    }\n",
              "    90% {\n",
              "      border-color: transparent;\n",
              "      border-bottom-color: var(--fill-color);\n",
              "    }\n",
              "  }\n",
              "</style>\n",
              "\n",
              "  <script>\n",
              "    async function quickchart(key) {\n",
              "      const quickchartButtonEl =\n",
              "        document.querySelector('#' + key + ' button');\n",
              "      quickchartButtonEl.disabled = true;  // To prevent multiple clicks.\n",
              "      quickchartButtonEl.classList.add('colab-df-spinner');\n",
              "      try {\n",
              "        const charts = await google.colab.kernel.invokeFunction(\n",
              "            'suggestCharts', [key], {});\n",
              "      } catch (error) {\n",
              "        console.error('Error during call to suggestCharts:', error);\n",
              "      }\n",
              "      quickchartButtonEl.classList.remove('colab-df-spinner');\n",
              "      quickchartButtonEl.classList.add('colab-df-quickchart-complete');\n",
              "    }\n",
              "    (() => {\n",
              "      let quickchartButtonEl =\n",
              "        document.querySelector('#df-9c1a0436-6b81-4c21-ac48-93afaa7ec537 button');\n",
              "      quickchartButtonEl.style.display =\n",
              "        google.colab.kernel.accessAllowed ? 'block' : 'none';\n",
              "    })();\n",
              "  </script>\n",
              "</div>\n",
              "\n",
              "    </div>\n",
              "  </div>\n"
            ],
            "application/vnd.google.colaboratory.intrinsic+json": {
              "type": "dataframe",
              "variable_name": "data"
            }
          },
          "metadata": {},
          "execution_count": 156
        }
      ]
    },
    {
      "cell_type": "markdown",
      "source": [
        "# Preprocesamiento del dataset\n",
        "En esta sección se realiza:\n",
        "\n",
        "Eliminación de datos nulos\n",
        "\n",
        "Selección de características importantes\n",
        "\n",
        "Codificación de fechas\n",
        "\n",
        "Conversión de valores categóricos si los hay"
      ],
      "metadata": {
        "id": "JDInk9SiXavN"
      }
    },
    {
      "cell_type": "code",
      "source": [
        "# Convertir 'Sensing_Date' a datetime\n",
        "data['Sensing_Date'] = pd.to_datetime(data['Sensing_Date'])\n",
        "\n",
        "# Extraer la hora del día\n",
        "data['HourDay'] = data['Sensing_Date'].dt.hour\n"
      ],
      "metadata": {
        "id": "YPRfA6WHXafU"
      },
      "execution_count": null,
      "outputs": []
    },
    {
      "cell_type": "markdown",
      "source": [
        "# Selección de Características y Objetivo:*\n",
        "\n",
        "Seleccionamos las columnas relevantes para las variables independientes y dependientes."
      ],
      "metadata": {
        "id": "4_HQY7FeZ7v5"
      }
    },
    {
      "cell_type": "code",
      "source": [
        "# Seleccionamos las columnas relevantes\n",
        "# Para este ejemplo, usaremos HourDay, Direction_1 y Direction_2 como características\n",
        "# y Total_of_Directions como el objetivo\n",
        "\n",
        "X = data[['HourDay', 'Direction_1', 'Direction_2']].values\n",
        "y = data['Total_of_Directions'].values\n",
        "\n",
        "m = y.size  # número de ejemplos de entrenamiento\n",
        "print(\"Número de ejemplos:\", m)"
      ],
      "metadata": {
        "colab": {
          "base_uri": "https://localhost:8080/"
        },
        "id": "NR08vdHhZ6J7",
        "outputId": "05a2b49f-4953-4b7d-df27-c71912ba9ff5"
      },
      "execution_count": null,
      "outputs": [
        {
          "output_type": "stream",
          "name": "stdout",
          "text": [
            "Número de ejemplos: 2271487\n"
          ]
        }
      ]
    },
    {
      "cell_type": "markdown",
      "source": [
        "# Normalización de Características:\n",
        "\n",
        "Estandarizamos las características para mejorar el rendimiento del modelo."
      ],
      "metadata": {
        "id": "dBpuceW0aL1a"
      }
    },
    {
      "cell_type": "code",
      "source": [
        "# Función para normalizar características (corregida)\n",
        "def featureNormalizeByRange(X):\n",
        "    X_norm = X.copy()\n",
        "    min_vals = np.min(X, axis=0)\n",
        "    max_vals = np.max(X, axis=0)\n",
        "\n",
        "    # Evitar división por cero en el rango\n",
        "    range_vals = max_vals - min_vals\n",
        "    range_vals = np.where(range_vals == 0, 1, range_vals)  # Si el rango es cero, reemplazarlo por 1\n",
        "\n",
        "    X_norm = (X - min_vals) / range_vals\n",
        "    return X_norm, min_vals, range_vals\n"
      ],
      "metadata": {
        "id": "uQZfipaZaOZ1"
      },
      "execution_count": null,
      "outputs": []
    },
    {
      "cell_type": "code",
      "source": [
        "# Normalizamos las características (corrigiendo la duplicación)\n",
        "X_norm, mu, sigma = featureNormalizeByRange(X)\n",
        "\n",
        "# Añadimos el término de intersección (columna de unos)\n",
        "X_norm = np.concatenate([np.ones((m, 1)), X_norm], axis=1)\n",
        "\n",
        "# Inicializamos los parámetros de theta\n",
        "theta = np.zeros(X_norm.shape[1])\n"
      ],
      "metadata": {
        "id": "4SeviyjhbTlf"
      },
      "execution_count": null,
      "outputs": []
    },
    {
      "cell_type": "markdown",
      "source": [
        "# Descenso por el gradiente\n",
        "En el ejemplo anterior se implemento el descenso por el gradiente para un problema de regresion univariable. La unica diferencia es que ahora existe una caracteristica adicional en la matriz  X . La función de hipótesis y la regla de actualización del descenso del gradiente por lotes permanecen sin cambios.\n",
        "\n",
        "La implementacion de las funciones computeCostMulti y gradientDescentMulti son similares a la funcion de costo y función de descenso por el gradiente de la regresión lineal multiple es similar al de la regresion lineal multivariable. Es importante garantizar que el codigo soporte cualquier numero de caracteristicas y esten bien vectorizadas.\n",
        "\n",
        "Se puede utilizar shape, propiedad de los arrays numpy, para identificar cuantas caracteristicas estan consideradas en el dataset.\n",
        "\n",
        "**Nota de implementación:** En el caso de multivariables, la función de costo puede se escrita considerando la forma vectorizada de la siguiente manera:"
      ],
      "metadata": {
        "id": "aPUlI71z0Qyt"
      }
    },
    {
      "cell_type": "code",
      "source": [
        "# Función de costo para regresión lineal múltiple\n",
        "def computeCostMulti(X, y, theta):\n",
        "    m = y.shape[0]  # número de ejemplos\n",
        "    J = (1 / (2 * m)) * np.sum(np.square(np.dot(X, theta) - y))\n",
        "    return J"
      ],
      "metadata": {
        "id": "k1-JIvzGbgAD"
      },
      "execution_count": null,
      "outputs": []
    },
    {
      "cell_type": "code",
      "source": [
        "def gradientDescentMulti(X, y, theta, alpha, num_iters):\n",
        "    m = y.shape[0]  # número de ejemplos\n",
        "    theta = theta.copy()\n",
        "    J_history = []\n",
        "\n",
        "    for i in range(num_iters):\n",
        "        # Corregimos la fórmula del gradiente\n",
        "        theta = theta - (alpha / m) * (np.dot(X.T, (np.dot(X, theta) - y)))\n",
        "        J_history.append(computeCostMulti(X, y, theta))\n",
        "\n",
        "    return theta, J_history"
      ],
      "metadata": {
        "id": "J7QseuVnbkSB"
      },
      "execution_count": null,
      "outputs": []
    },
    {
      "cell_type": "markdown",
      "source": [
        "# Seleccionando coheficientes de aprendizaje"
      ],
      "metadata": {
        "id": "Ani2RIo_0XHh"
      }
    },
    {
      "cell_type": "code",
      "source": [
        "# Elegimos el valor de alpha (tasa de aprendizaje) y el número de iteraciones\n",
        "alpha = 0.01  # Puedes experimentar con otros valores\n",
        "num_iters = 4000\n",
        "\n",
        "# Ejecutamos el descenso por el gradiente\n",
        "theta, J_history = gradientDescentMulti(X_norm, y, theta, alpha, num_iters)\n",
        "\n",
        "# Graficamos la convergencia del costo\n",
        "plt.plot(np.arange(len(J_history)), J_history, lw=2)\n",
        "plt.xlabel('Número de iteraciones')\n",
        "plt.ylabel('Costo J')\n",
        "plt.title('Convergencia del Costo')\n",
        "plt.show()\n",
        "\n",
        "# Mostramos los resultados obtenidos con el descenso por el gradiente\n",
        "print(f'Theta calculado por el descenso por el gradiente: {theta}')\n",
        "\n",
        "# Hacemos una predicción usando el modelo entrenado\n",
        "# Supongamos que queremos predecir el conteo total para una hora específica, dirección 1 y dirección 2.\n",
        "# Por ejemplo, para HourDay = 10, Direction_1 = 50, Direction_2 = 30:\n",
        "X_array = np.array([1, (10 - mu[0]) / sigma[0], (50 - mu[1]) / sigma[1], (30 - mu[2]) / sigma[2]])\n",
        "predicted_count = np.dot(X_array, theta)\n",
        "\n",
        "print(f'El conteo predicho para HourDay=10, Direction_1=50, Direction_2=30: {predicted_count:.0f}')\n",
        "\n",
        "# También puedes calcular el precio estimado para otros valores de HourDay, Direction_1 y Direction_2.\n",
        "X_array = np.array([1, (15 - mu[0]) / sigma[0], (100 - mu[1]) / sigma[1], (80 - mu[2]) / sigma[2]])\n",
        "predicted_count_2 = np.dot(X_array, theta)\n",
        "\n",
        "print(f'El conteo predicho para HourDay=15, Direction_1=100, Direction_2=80: {predicted_count_2:.0f}')"
      ],
      "metadata": {
        "colab": {
          "base_uri": "https://localhost:8080/",
          "height": 544
        },
        "id": "lJHoyGHYbnyR",
        "outputId": "a1d1c838-ec99-4176-c758-1233c63f2df0"
      },
      "execution_count": null,
      "outputs": [
        {
          "output_type": "display_data",
          "data": {
            "text/plain": [
              "<Figure size 640x480 with 1 Axes>"
            ],
            "image/png": "[encoded data removed]"
          },
          "metadata": {}
        },
        {
          "output_type": "stream",
          "name": "stdout",
          "text": [
            "Theta calculado por el descenso por el gradiente: [341.69490615   0.         680.77518688 660.27871543]\n",
            "El conteo predicho para HourDay=10, Direction_1=50, Direction_2=30: 348\n",
            "El conteo predicho para HourDay=15, Direction_1=100, Direction_2=80: 355\n"
          ]
        }
      ]
    }
  ]
}