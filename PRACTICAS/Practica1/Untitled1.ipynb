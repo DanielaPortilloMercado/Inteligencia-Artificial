{
  "nbformat": 4,
  "nbformat_minor": 0,
  "metadata": {
    "colab": {
      "provenance": [],
      "authorship_tag": "ABX9TyOOkz5HH7qsMB1UN2tWlWlP",
      "include_colab_link": true
    },
    "kernelspec": {
      "name": "python3",
      "display_name": "Python 3"
    },
    "language_info": {
      "name": "python"
    }
  },
  "cells": [
    {
      "cell_type": "markdown",
      "metadata": {
        "id": "view-in-github",
        "colab_type": "text"
      },
      "source": [
        "<a href=\"https://colab.research.google.com/github/DanielaPortilloMercado/Inteligencia-Artificial/blob/main/PRACTICAS/Practica1/Untitled1.ipynb\" target=\"_parent\"><img src=\"https://colab.research.google.com/assets/colab-badge.svg\" alt=\"Open In Colab\"/></a>"
      ]
    },
    {
      "cell_type": "markdown",
      "source": [
        "# PRACTICA #1\n",
        " NOMBRE: Daniela Portillo Mercado\n",
        "\n",
        " CARRERA: Ingenieria de Sistemas\n",
        "\n",
        " enlace de git hub:\n",
        "\n",
        " enlace de colab:\n",
        " https://colab.research.google.com/drive/120r3zFSstIfk1nL4grtcrCqJbPEpkuYv#scrollTo=Y4eMlJcMvPJz\n",
        "\n",
        "\n",
        "\n",
        "# Ejercicio de programación -  Regresión Logistica\n",
        "En este ejercicio se implementa regresión logistica."
      ],
      "metadata": {
        "id": "Y4eMlJcMvPJz"
      }
    },
    {
      "cell_type": "code",
      "execution_count": 1,
      "metadata": {
        "colab": {
          "base_uri": "https://localhost:8080/"
        },
        "id": "qsmbuNEIRx7j",
        "outputId": "167a783f-3ad2-4e4d-951c-b1741b537086"
      },
      "outputs": [
        {
          "output_type": "stream",
          "name": "stdout",
          "text": [
            "Mounted at /content/drive\n"
          ]
        }
      ],
      "source": [
        "from google.colab import drive\n",
        "drive.mount('/content/drive')"
      ]
    },
    {
      "cell_type": "code",
      "source": [
        "# utilizando la libreria os para manejos de directorios\n",
        "import os\n",
        "\n",
        "# Computacion vectorial y cientifica para python\n",
        "import numpy as np\n",
        "\n",
        "#importamos pandas para el manejo del dataset, y separarlos dentro de una matriz\n",
        "import pandas as pd\n",
        "\n",
        "#esta tabulate nos sirve para hacer tablas\n",
        "from tabulate import tabulate\n",
        "\n",
        "# Librerias para graficación (trazado de gráficos)\n",
        "from matplotlib import pyplot\n",
        "from mpl_toolkits.mplot3d import Axes3D  # -> Necesario para graficar superficies 3D\n",
        "\n",
        "#Para separa el 20% y 80%\n",
        "from sklearn.model_selection import train_test_split\n",
        "\n",
        "# llama a matplotlib a embeber graficas dentro de los cuadernillos\n",
        "%matplotlib inline"
      ],
      "metadata": {
        "id": "0NeCfIKMvsnq"
      },
      "execution_count": 39,
      "outputs": []
    },
    {
      "cell_type": "markdown",
      "source": [
        "# 1 Regresion Logistica\n",
        "En esta parte del ejercicio, creará un modelo de regresión logística para predecir si un estudiante será admitido en una universidad. Suponga que es el administrador de un departamento universitario y desea determinar las posibilidades de admisión de cada solicitante en función de sus resultados en dos exámenes. Tiene datos históricos de solicitantes anteriores que puede usar como un conjunto de capacitación para la regresión logística. Para cada ejemplo de capacitación, se tiene las calificaciones del solicitante en dos exámenes y la decisión de admisión. Su tarea es crear un modelo de clasificación que calcule la probabilidad de admisión de un solicitante en función de los puntajes de esos dos exámenes.\n",
        "\n",
        "La siguiente celda cargará los datos y las etiquetas correspondientes:"
      ],
      "metadata": {
        "id": "t1NpAoN1v6KS"
      }
    },
    {
      "cell_type": "markdown",
      "source": [
        "# Datos del dataset\n",
        "En la siguiente tabla impresa se puede ver lo siguiente:\n",
        "\n",
        "Variables de entrada(X):\n",
        "\n",
        "PA alta 1-0\n",
        "\n",
        "col alta 1-0\n",
        "\n",
        "control de col 1-0\n",
        "\n",
        "IMC (valor)\n",
        "\n",
        "fumador 1-0\n",
        "\n",
        "accidente cerebrovascular 1-0\n",
        "\n",
        "enfermedad cardíaca 1-0\n",
        "\n",
        "actividad física 1-0\n",
        "\n",
        "frutas 1-0\n",
        "\n",
        "verduras 1-0\n",
        "\n",
        "alto consumo de alcohol 1-0\n",
        "\n",
        "cualquier atención médica 1-0\n",
        "\n",
        "sin costo Docbc 1-0\n",
        "\n",
        "salud general 1-0\n",
        "\n",
        "salud mental 1-0\n",
        "\n",
        "salud física 1-0\n",
        "\n",
        "caminata diferencial 1-0\n",
        "\n",
        "sexo 1-0\n",
        "\n",
        "edad (valor)\n",
        "\n",
        "educación\n",
        "\n",
        "ingresos\n",
        "\n",
        "Variable de salida (y):\n",
        "\n",
        "(Diabetes).- Presencia o ausencia de enfermedad, donde: 1:Si y 2:No."
      ],
      "metadata": {
        "id": "-OiteBmRJQCO"
      }
    },
    {
      "cell_type": "code",
      "source": [
        "#Haciendo uso de la libreria pandas para leer el dataset.\n",
        "dataset = pd.read_csv('/content/drive/MyDrive/diabetes-practica.csv', delimiter=',')\n",
        "\n",
        "#Imprimimos en una tabla el dataset.\n",
        "dataset"
      ],
      "metadata": {
        "colab": {
          "base_uri": "https://localhost:8080/",
          "height": 495
        },
        "id": "y7F98xB6v_C9",
        "outputId": "13c4b6bb-b0d5-4246-ea47-03149b40623a"
      },
      "execution_count": 40,
      "outputs": [
        {
          "output_type": "execute_result",
          "data": {
            "text/plain": [
              "       PA alta  col alta  control de col   IMC  fumador  acc. cerebrovascular  \\\n",
              "0          1.0       1.0             1.0  40.0      1.0                   0.0   \n",
              "1          0.0       0.0             0.0  25.0      1.0                   0.0   \n",
              "2          1.0       1.0             1.0  28.0      0.0                   0.0   \n",
              "3          1.0       0.0             1.0  27.0      0.0                   0.0   \n",
              "4          1.0       1.0             1.0  24.0      0.0                   0.0   \n",
              "...        ...       ...             ...   ...      ...                   ...   \n",
              "24995      1.0       0.0             1.0  23.0      1.0                   0.0   \n",
              "24996      0.0       1.0             1.0  25.0      0.0                   0.0   \n",
              "24997      0.0       1.0             1.0  24.0      0.0                   0.0   \n",
              "24998      0.0       0.0             1.0  26.0      0.0                   0.0   \n",
              "24999      0.0       0.0             1.0  24.0      1.0                   0.0   \n",
              "\n",
              "       enfermedad cardíaca  actividad física  frutas   verduras  ...  \\\n",
              "0                      0.0               0.0     0.0        1.0  ...   \n",
              "1                      0.0               1.0     0.0        0.0  ...   \n",
              "2                      0.0               0.0     1.0        0.0  ...   \n",
              "3                      0.0               1.0     1.0        1.0  ...   \n",
              "4                      0.0               1.0     1.0        1.0  ...   \n",
              "...                    ...               ...     ...        ...  ...   \n",
              "24995                  0.0               1.0     1.0        1.0  ...   \n",
              "24996                  0.0               1.0     1.0        1.0  ...   \n",
              "24997                  0.0               1.0     1.0        1.0  ...   \n",
              "24998                  0.0               1.0     1.0        1.0  ...   \n",
              "24999                  0.0               1.0     1.0        1.0  ...   \n",
              "\n",
              "       Falta de atencion por Dinero  salud general  salud mental  \\\n",
              "0                               0.0            5.0          18.0   \n",
              "1                               1.0            3.0           0.0   \n",
              "2                               1.0            5.0          30.0   \n",
              "3                               0.0            2.0           0.0   \n",
              "4                               0.0            2.0           3.0   \n",
              "...                             ...            ...           ...   \n",
              "24995                           0.0            2.0           0.0   \n",
              "24996                           0.0            2.0           0.0   \n",
              "24997                           0.0            2.0           0.0   \n",
              "24998                           0.0            2.0           0.0   \n",
              "24999                           0.0            1.0           0.0   \n",
              "\n",
              "       salud física  caminata  sexo  edad  educación  ingresos  Diabetes  \n",
              "0              15.0       1.0   0.0   9.0        4.0       3.0       0.0  \n",
              "1               0.0       0.0   0.0   7.0        6.0       1.0       0.0  \n",
              "2              30.0       1.0   0.0   9.0        4.0       8.0       0.0  \n",
              "3               0.0       0.0   0.0  11.0        3.0       6.0       0.0  \n",
              "4               0.0       0.0   0.0  11.0        5.0       4.0       0.0  \n",
              "...             ...       ...   ...   ...        ...       ...       ...  \n",
              "24995          14.0       0.0   0.0  12.0        5.0       5.0       0.0  \n",
              "24996           0.0       0.0   1.0   1.0        4.0       5.0       0.0  \n",
              "24997           0.0       0.0   0.0  10.0        6.0       6.0       0.0  \n",
              "24998           1.0       0.0   1.0   8.0        6.0       8.0       0.0  \n",
              "24999           1.0       0.0   0.0   9.0        5.0       5.0       0.0  \n",
              "\n",
              "[25000 rows x 22 columns]"
            ],
            "text/html": [
              "\n",
              "  <div id=\"df-db8266b2-0b7d-4208-835f-53efd57b1fb6\" class=\"colab-df-container\">\n",
              "    <div>\n",
              "<style scoped>\n",
              "    .dataframe tbody tr th:only-of-type {\n",
              "        vertical-align: middle;\n",
              "    }\n",
              "\n",
              "    .dataframe tbody tr th {\n",
              "        vertical-align: top;\n",
              "    }\n",
              "\n",
              "    .dataframe thead th {\n",
              "        text-align: right;\n",
              "    }\n",
              "</style>\n",
              "<table border=\"1\" class=\"dataframe\">\n",
              "  <thead>\n",
              "    <tr style=\"text-align: right;\">\n",
              "      <th></th>\n",
              "      <th>PA alta</th>\n",
              "      <th>col alta</th>\n",
              "      <th>control de col</th>\n",
              "      <th>IMC</th>\n",
              "      <th>fumador</th>\n",
              "      <th>acc. cerebrovascular</th>\n",
              "      <th>enfermedad cardíaca</th>\n",
              "      <th>actividad física</th>\n",
              "      <th>frutas</th>\n",
              "      <th>verduras</th>\n",
              "      <th>...</th>\n",
              "      <th>Falta de atencion por Dinero</th>\n",
              "      <th>salud general</th>\n",
              "      <th>salud mental</th>\n",
              "      <th>salud física</th>\n",
              "      <th>caminata</th>\n",
              "      <th>sexo</th>\n",
              "      <th>edad</th>\n",
              "      <th>educación</th>\n",
              "      <th>ingresos</th>\n",
              "      <th>Diabetes</th>\n",
              "    </tr>\n",
              "  </thead>\n",
              "  <tbody>\n",
              "    <tr>\n",
              "      <th>0</th>\n",
              "      <td>1.0</td>\n",
              "      <td>1.0</td>\n",
              "      <td>1.0</td>\n",
              "      <td>40.0</td>\n",
              "      <td>1.0</td>\n",
              "      <td>0.0</td>\n",
              "      <td>0.0</td>\n",
              "      <td>0.0</td>\n",
              "      <td>0.0</td>\n",
              "      <td>1.0</td>\n",
              "      <td>...</td>\n",
              "      <td>0.0</td>\n",
              "      <td>5.0</td>\n",
              "      <td>18.0</td>\n",
              "      <td>15.0</td>\n",
              "      <td>1.0</td>\n",
              "      <td>0.0</td>\n",
              "      <td>9.0</td>\n",
              "      <td>4.0</td>\n",
              "      <td>3.0</td>\n",
              "      <td>0.0</td>\n",
              "    </tr>\n",
              "    <tr>\n",
              "      <th>1</th>\n",
              "      <td>0.0</td>\n",
              "      <td>0.0</td>\n",
              "      <td>0.0</td>\n",
              "      <td>25.0</td>\n",
              "      <td>1.0</td>\n",
              "      <td>0.0</td>\n",
              "      <td>0.0</td>\n",
              "      <td>1.0</td>\n",
              "      <td>0.0</td>\n",
              "      <td>0.0</td>\n",
              "      <td>...</td>\n",
              "      <td>1.0</td>\n",
              "      <td>3.0</td>\n",
              "      <td>0.0</td>\n",
              "      <td>0.0</td>\n",
              "      <td>0.0</td>\n",
              "      <td>0.0</td>\n",
              "      <td>7.0</td>\n",
              "      <td>6.0</td>\n",
              "      <td>1.0</td>\n",
              "      <td>0.0</td>\n",
              "    </tr>\n",
              "    <tr>\n",
              "      <th>2</th>\n",
              "      <td>1.0</td>\n",
              "      <td>1.0</td>\n",
              "      <td>1.0</td>\n",
              "      <td>28.0</td>\n",
              "      <td>0.0</td>\n",
              "      <td>0.0</td>\n",
              "      <td>0.0</td>\n",
              "      <td>0.0</td>\n",
              "      <td>1.0</td>\n",
              "      <td>0.0</td>\n",
              "      <td>...</td>\n",
              "      <td>1.0</td>\n",
              "      <td>5.0</td>\n",
              "      <td>30.0</td>\n",
              "      <td>30.0</td>\n",
              "      <td>1.0</td>\n",
              "      <td>0.0</td>\n",
              "      <td>9.0</td>\n",
              "      <td>4.0</td>\n",
              "      <td>8.0</td>\n",
              "      <td>0.0</td>\n",
              "    </tr>\n",
              "    <tr>\n",
              "      <th>3</th>\n",
              "      <td>1.0</td>\n",
              "      <td>0.0</td>\n",
              "      <td>1.0</td>\n",
              "      <td>27.0</td>\n",
              "      <td>0.0</td>\n",
              "      <td>0.0</td>\n",
              "      <td>0.0</td>\n",
              "      <td>1.0</td>\n",
              "      <td>1.0</td>\n",
              "      <td>1.0</td>\n",
              "      <td>...</td>\n",
              "      <td>0.0</td>\n",
              "      <td>2.0</td>\n",
              "      <td>0.0</td>\n",
              "      <td>0.0</td>\n",
              "      <td>0.0</td>\n",
              "      <td>0.0</td>\n",
              "      <td>11.0</td>\n",
              "      <td>3.0</td>\n",
              "      <td>6.0</td>\n",
              "      <td>0.0</td>\n",
              "    </tr>\n",
              "    <tr>\n",
              "      <th>4</th>\n",
              "      <td>1.0</td>\n",
              "      <td>1.0</td>\n",
              "      <td>1.0</td>\n",
              "      <td>24.0</td>\n",
              "      <td>0.0</td>\n",
              "      <td>0.0</td>\n",
              "      <td>0.0</td>\n",
              "      <td>1.0</td>\n",
              "      <td>1.0</td>\n",
              "      <td>1.0</td>\n",
              "      <td>...</td>\n",
              "      <td>0.0</td>\n",
              "      <td>2.0</td>\n",
              "      <td>3.0</td>\n",
              "      <td>0.0</td>\n",
              "      <td>0.0</td>\n",
              "      <td>0.0</td>\n",
              "      <td>11.0</td>\n",
              "      <td>5.0</td>\n",
              "      <td>4.0</td>\n",
              "      <td>0.0</td>\n",
              "    </tr>\n",
              "    <tr>\n",
              "      <th>...</th>\n",
              "      <td>...</td>\n",
              "      <td>...</td>\n",
              "      <td>...</td>\n",
              "      <td>...</td>\n",
              "      <td>...</td>\n",
              "      <td>...</td>\n",
              "      <td>...</td>\n",
              "      <td>...</td>\n",
              "      <td>...</td>\n",
              "      <td>...</td>\n",
              "      <td>...</td>\n",
              "      <td>...</td>\n",
              "      <td>...</td>\n",
              "      <td>...</td>\n",
              "      <td>...</td>\n",
              "      <td>...</td>\n",
              "      <td>...</td>\n",
              "      <td>...</td>\n",
              "      <td>...</td>\n",
              "      <td>...</td>\n",
              "      <td>...</td>\n",
              "    </tr>\n",
              "    <tr>\n",
              "      <th>24995</th>\n",
              "      <td>1.0</td>\n",
              "      <td>0.0</td>\n",
              "      <td>1.0</td>\n",
              "      <td>23.0</td>\n",
              "      <td>1.0</td>\n",
              "      <td>0.0</td>\n",
              "      <td>0.0</td>\n",
              "      <td>1.0</td>\n",
              "      <td>1.0</td>\n",
              "      <td>1.0</td>\n",
              "      <td>...</td>\n",
              "      <td>0.0</td>\n",
              "      <td>2.0</td>\n",
              "      <td>0.0</td>\n",
              "      <td>14.0</td>\n",
              "      <td>0.0</td>\n",
              "      <td>0.0</td>\n",
              "      <td>12.0</td>\n",
              "      <td>5.0</td>\n",
              "      <td>5.0</td>\n",
              "      <td>0.0</td>\n",
              "    </tr>\n",
              "    <tr>\n",
              "      <th>24996</th>\n",
              "      <td>0.0</td>\n",
              "      <td>1.0</td>\n",
              "      <td>1.0</td>\n",
              "      <td>25.0</td>\n",
              "      <td>0.0</td>\n",
              "      <td>0.0</td>\n",
              "      <td>0.0</td>\n",
              "      <td>1.0</td>\n",
              "      <td>1.0</td>\n",
              "      <td>1.0</td>\n",
              "      <td>...</td>\n",
              "      <td>0.0</td>\n",
              "      <td>2.0</td>\n",
              "      <td>0.0</td>\n",
              "      <td>0.0</td>\n",
              "      <td>0.0</td>\n",
              "      <td>1.0</td>\n",
              "      <td>1.0</td>\n",
              "      <td>4.0</td>\n",
              "      <td>5.0</td>\n",
              "      <td>0.0</td>\n",
              "    </tr>\n",
              "    <tr>\n",
              "      <th>24997</th>\n",
              "      <td>0.0</td>\n",
              "      <td>1.0</td>\n",
              "      <td>1.0</td>\n",
              "      <td>24.0</td>\n",
              "      <td>0.0</td>\n",
              "      <td>0.0</td>\n",
              "      <td>0.0</td>\n",
              "      <td>1.0</td>\n",
              "      <td>1.0</td>\n",
              "      <td>1.0</td>\n",
              "      <td>...</td>\n",
              "      <td>0.0</td>\n",
              "      <td>2.0</td>\n",
              "      <td>0.0</td>\n",
              "      <td>0.0</td>\n",
              "      <td>0.0</td>\n",
              "      <td>0.0</td>\n",
              "      <td>10.0</td>\n",
              "      <td>6.0</td>\n",
              "      <td>6.0</td>\n",
              "      <td>0.0</td>\n",
              "    </tr>\n",
              "    <tr>\n",
              "      <th>24998</th>\n",
              "      <td>0.0</td>\n",
              "      <td>0.0</td>\n",
              "      <td>1.0</td>\n",
              "      <td>26.0</td>\n",
              "      <td>0.0</td>\n",
              "      <td>0.0</td>\n",
              "      <td>0.0</td>\n",
              "      <td>1.0</td>\n",
              "      <td>1.0</td>\n",
              "      <td>1.0</td>\n",
              "      <td>...</td>\n",
              "      <td>0.0</td>\n",
              "      <td>2.0</td>\n",
              "      <td>0.0</td>\n",
              "      <td>1.0</td>\n",
              "      <td>0.0</td>\n",
              "      <td>1.0</td>\n",
              "      <td>8.0</td>\n",
              "      <td>6.0</td>\n",
              "      <td>8.0</td>\n",
              "      <td>0.0</td>\n",
              "    </tr>\n",
              "    <tr>\n",
              "      <th>24999</th>\n",
              "      <td>0.0</td>\n",
              "      <td>0.0</td>\n",
              "      <td>1.0</td>\n",
              "      <td>24.0</td>\n",
              "      <td>1.0</td>\n",
              "      <td>0.0</td>\n",
              "      <td>0.0</td>\n",
              "      <td>1.0</td>\n",
              "      <td>1.0</td>\n",
              "      <td>1.0</td>\n",
              "      <td>...</td>\n",
              "      <td>0.0</td>\n",
              "      <td>1.0</td>\n",
              "      <td>0.0</td>\n",
              "      <td>1.0</td>\n",
              "      <td>0.0</td>\n",
              "      <td>0.0</td>\n",
              "      <td>9.0</td>\n",
              "      <td>5.0</td>\n",
              "      <td>5.0</td>\n",
              "      <td>0.0</td>\n",
              "    </tr>\n",
              "  </tbody>\n",
              "</table>\n",
              "<p>25000 rows × 22 columns</p>\n",
              "</div>\n",
              "    <div class=\"colab-df-buttons\">\n",
              "\n",
              "  <div class=\"colab-df-container\">\n",
              "    <button class=\"colab-df-convert\" onclick=\"convertToInteractive('df-db8266b2-0b7d-4208-835f-53efd57b1fb6')\"\n",
              "            title=\"Convert this dataframe to an interactive table.\"\n",
              "            style=\"display:none;\">\n",
              "\n",
              "  <svg xmlns=\"http://www.w3.org/2000/svg\" height=\"24px\" viewBox=\"0 -960 960 960\">\n",
              "    <path d=\"M120-120v-720h720v720H120Zm60-500h600v-160H180v160Zm220 220h160v-160H400v160Zm0 220h160v-160H400v160ZM180-400h160v-160H180v160Zm440 0h160v-160H620v160ZM180-180h160v-160H180v160Zm440 0h160v-160H620v160Z\"/>\n",
              "  </svg>\n",
              "    </button>\n",
              "\n",
              "  <style>\n",
              "    .colab-df-container {\n",
              "      display:flex;\n",
              "      gap: 12px;\n",
              "    }\n",
              "\n",
              "    .colab-df-convert {\n",
              "      background-color: #E8F0FE;\n",
              "      border: none;\n",
              "      border-radius: 50%;\n",
              "      cursor: pointer;\n",
              "      display: none;\n",
              "      fill: #1967D2;\n",
              "      height: 32px;\n",
              "      padding: 0 0 0 0;\n",
              "      width: 32px;\n",
              "    }\n",
              "\n",
              "    .colab-df-convert:hover {\n",
              "      background-color: #E2EBFA;\n",
              "      box-shadow: 0px 1px 2px rgba(60, 64, 67, 0.3), 0px 1px 3px 1px rgba(60, 64, 67, 0.15);\n",
              "      fill: #174EA6;\n",
              "    }\n",
              "\n",
              "    .colab-df-buttons div {\n",
              "      margin-bottom: 4px;\n",
              "    }\n",
              "\n",
              "    [theme=dark] .colab-df-convert {\n",
              "      background-color: #3B4455;\n",
              "      fill: #D2E3FC;\n",
              "    }\n",
              "\n",
              "    [theme=dark] .colab-df-convert:hover {\n",
              "      background-color: #434B5C;\n",
              "      box-shadow: 0px 1px 3px 1px rgba(0, 0, 0, 0.15);\n",
              "      filter: drop-shadow(0px 1px 2px rgba(0, 0, 0, 0.3));\n",
              "      fill: #FFFFFF;\n",
              "    }\n",
              "  </style>\n",
              "\n",
              "    <script>\n",
              "      const buttonEl =\n",
              "        document.querySelector('#df-db8266b2-0b7d-4208-835f-53efd57b1fb6 button.colab-df-convert');\n",
              "      buttonEl.style.display =\n",
              "        google.colab.kernel.accessAllowed ? 'block' : 'none';\n",
              "\n",
              "      async function convertToInteractive(key) {\n",
              "        const element = document.querySelector('#df-db8266b2-0b7d-4208-835f-53efd57b1fb6');\n",
              "        const dataTable =\n",
              "          await google.colab.kernel.invokeFunction('convertToInteractive',\n",
              "                                                    [key], {});\n",
              "        if (!dataTable) return;\n",
              "\n",
              "        const docLinkHtml = 'Like what you see? Visit the ' +\n",
              "          '<a target=\"_blank\" href=https://colab.research.google.com/notebooks/data_table.ipynb>data table notebook</a>'\n",
              "          + ' to learn more about interactive tables.';\n",
              "        element.innerHTML = '';\n",
              "        dataTable['output_type'] = 'display_data';\n",
              "        await google.colab.output.renderOutput(dataTable, element);\n",
              "        const docLink = document.createElement('div');\n",
              "        docLink.innerHTML = docLinkHtml;\n",
              "        element.appendChild(docLink);\n",
              "      }\n",
              "    </script>\n",
              "  </div>\n",
              "\n",
              "\n",
              "<div id=\"df-b21b3905-867b-42be-a954-43a5ab41e54d\">\n",
              "  <button class=\"colab-df-quickchart\" onclick=\"quickchart('df-b21b3905-867b-42be-a954-43a5ab41e54d')\"\n",
              "            title=\"Suggest charts\"\n",
              "            style=\"display:none;\">\n",
              "\n",
              "<svg xmlns=\"http://www.w3.org/2000/svg\" height=\"24px\"viewBox=\"0 0 24 24\"\n",
              "     width=\"24px\">\n",
              "    <g>\n",
              "        <path d=\"M19 3H5c-1.1 0-2 .9-2 2v14c0 1.1.9 2 2 2h14c1.1 0 2-.9 2-2V5c0-1.1-.9-2-2-2zM9 17H7v-7h2v7zm4 0h-2V7h2v10zm4 0h-2v-4h2v4z\"/>\n",
              "    </g>\n",
              "</svg>\n",
              "  </button>\n",
              "\n",
              "<style>\n",
              "  .colab-df-quickchart {\n",
              "      --bg-color: #E8F0FE;\n",
              "      --fill-color: #1967D2;\n",
              "      --hover-bg-color: #E2EBFA;\n",
              "      --hover-fill-color: #174EA6;\n",
              "      --disabled-fill-color: #AAA;\n",
              "      --disabled-bg-color: #DDD;\n",
              "  }\n",
              "\n",
              "  [theme=dark] .colab-df-quickchart {\n",
              "      --bg-color: #3B4455;\n",
              "      --fill-color: #D2E3FC;\n",
              "      --hover-bg-color: #434B5C;\n",
              "      --hover-fill-color: #FFFFFF;\n",
              "      --disabled-bg-color: #3B4455;\n",
              "      --disabled-fill-color: #666;\n",
              "  }\n",
              "\n",
              "  .colab-df-quickchart {\n",
              "    background-color: var(--bg-color);\n",
              "    border: none;\n",
              "    border-radius: 50%;\n",
              "    cursor: pointer;\n",
              "    display: none;\n",
              "    fill: var(--fill-color);\n",
              "    height: 32px;\n",
              "    padding: 0;\n",
              "    width: 32px;\n",
              "  }\n",
              "\n",
              "  .colab-df-quickchart:hover {\n",
              "    background-color: var(--hover-bg-color);\n",
              "    box-shadow: 0 1px 2px rgba(60, 64, 67, 0.3), 0 1px 3px 1px rgba(60, 64, 67, 0.15);\n",
              "    fill: var(--button-hover-fill-color);\n",
              "  }\n",
              "\n",
              "  .colab-df-quickchart-complete:disabled,\n",
              "  .colab-df-quickchart-complete:disabled:hover {\n",
              "    background-color: var(--disabled-bg-color);\n",
              "    fill: var(--disabled-fill-color);\n",
              "    box-shadow: none;\n",
              "  }\n",
              "\n",
              "  .colab-df-spinner {\n",
              "    border: 2px solid var(--fill-color);\n",
              "    border-color: transparent;\n",
              "    border-bottom-color: var(--fill-color);\n",
              "    animation:\n",
              "      spin 1s steps(1) infinite;\n",
              "  }\n",
              "\n",
              "  @keyframes spin {\n",
              "    0% {\n",
              "      border-color: transparent;\n",
              "      border-bottom-color: var(--fill-color);\n",
              "      border-left-color: var(--fill-color);\n",
              "    }\n",
              "    20% {\n",
              "      border-color: transparent;\n",
              "      border-left-color: var(--fill-color);\n",
              "      border-top-color: var(--fill-color);\n",
              "    }\n",
              "    30% {\n",
              "      border-color: transparent;\n",
              "      border-left-color: var(--fill-color);\n",
              "      border-top-color: var(--fill-color);\n",
              "      border-right-color: var(--fill-color);\n",
              "    }\n",
              "    40% {\n",
              "      border-color: transparent;\n",
              "      border-right-color: var(--fill-color);\n",
              "      border-top-color: var(--fill-color);\n",
              "    }\n",
              "    60% {\n",
              "      border-color: transparent;\n",
              "      border-right-color: var(--fill-color);\n",
              "    }\n",
              "    80% {\n",
              "      border-color: transparent;\n",
              "      border-right-color: var(--fill-color);\n",
              "      border-bottom-color: var(--fill-color);\n",
              "    }\n",
              "    90% {\n",
              "      border-color: transparent;\n",
              "      border-bottom-color: var(--fill-color);\n",
              "    }\n",
              "  }\n",
              "</style>\n",
              "\n",
              "  <script>\n",
              "    async function quickchart(key) {\n",
              "      const quickchartButtonEl =\n",
              "        document.querySelector('#' + key + ' button');\n",
              "      quickchartButtonEl.disabled = true;  // To prevent multiple clicks.\n",
              "      quickchartButtonEl.classList.add('colab-df-spinner');\n",
              "      try {\n",
              "        const charts = await google.colab.kernel.invokeFunction(\n",
              "            'suggestCharts', [key], {});\n",
              "      } catch (error) {\n",
              "        console.error('Error during call to suggestCharts:', error);\n",
              "      }\n",
              "      quickchartButtonEl.classList.remove('colab-df-spinner');\n",
              "      quickchartButtonEl.classList.add('colab-df-quickchart-complete');\n",
              "    }\n",
              "    (() => {\n",
              "      let quickchartButtonEl =\n",
              "        document.querySelector('#df-b21b3905-867b-42be-a954-43a5ab41e54d button');\n",
              "      quickchartButtonEl.style.display =\n",
              "        google.colab.kernel.accessAllowed ? 'block' : 'none';\n",
              "    })();\n",
              "  </script>\n",
              "</div>\n",
              "\n",
              "  <div id=\"id_03350109-f690-4f6d-ae50-e38ed97d34a0\">\n",
              "    <style>\n",
              "      .colab-df-generate {\n",
              "        background-color: #E8F0FE;\n",
              "        border: none;\n",
              "        border-radius: 50%;\n",
              "        cursor: pointer;\n",
              "        display: none;\n",
              "        fill: #1967D2;\n",
              "        height: 32px;\n",
              "        padding: 0 0 0 0;\n",
              "        width: 32px;\n",
              "      }\n",
              "\n",
              "      .colab-df-generate:hover {\n",
              "        background-color: #E2EBFA;\n",
              "        box-shadow: 0px 1px 2px rgba(60, 64, 67, 0.3), 0px 1px 3px 1px rgba(60, 64, 67, 0.15);\n",
              "        fill: #174EA6;\n",
              "      }\n",
              "\n",
              "      [theme=dark] .colab-df-generate {\n",
              "        background-color: #3B4455;\n",
              "        fill: #D2E3FC;\n",
              "      }\n",
              "\n",
              "      [theme=dark] .colab-df-generate:hover {\n",
              "        background-color: #434B5C;\n",
              "        box-shadow: 0px 1px 3px 1px rgba(0, 0, 0, 0.15);\n",
              "        filter: drop-shadow(0px 1px 2px rgba(0, 0, 0, 0.3));\n",
              "        fill: #FFFFFF;\n",
              "      }\n",
              "    </style>\n",
              "    <button class=\"colab-df-generate\" onclick=\"generateWithVariable('dataset')\"\n",
              "            title=\"Generate code using this dataframe.\"\n",
              "            style=\"display:none;\">\n",
              "\n",
              "  <svg xmlns=\"http://www.w3.org/2000/svg\" height=\"24px\"viewBox=\"0 0 24 24\"\n",
              "       width=\"24px\">\n",
              "    <path d=\"M7,19H8.4L18.45,9,17,7.55,7,17.6ZM5,21V16.75L18.45,3.32a2,2,0,0,1,2.83,0l1.4,1.43a1.91,1.91,0,0,1,.58,1.4,1.91,1.91,0,0,1-.58,1.4L9.25,21ZM18.45,9,17,7.55Zm-12,3A5.31,5.31,0,0,0,4.9,8.1,5.31,5.31,0,0,0,1,6.5,5.31,5.31,0,0,0,4.9,4.9,5.31,5.31,0,0,0,6.5,1,5.31,5.31,0,0,0,8.1,4.9,5.31,5.31,0,0,0,12,6.5,5.46,5.46,0,0,0,6.5,12Z\"/>\n",
              "  </svg>\n",
              "    </button>\n",
              "    <script>\n",
              "      (() => {\n",
              "      const buttonEl =\n",
              "        document.querySelector('#id_03350109-f690-4f6d-ae50-e38ed97d34a0 button.colab-df-generate');\n",
              "      buttonEl.style.display =\n",
              "        google.colab.kernel.accessAllowed ? 'block' : 'none';\n",
              "\n",
              "      buttonEl.onclick = () => {\n",
              "        google.colab.notebook.generateWithVariable('dataset');\n",
              "      }\n",
              "      })();\n",
              "    </script>\n",
              "  </div>\n",
              "\n",
              "    </div>\n",
              "  </div>\n"
            ],
            "application/vnd.google.colaboratory.intrinsic+json": {
              "type": "dataframe",
              "variable_name": "dataset"
            }
          },
          "metadata": {},
          "execution_count": 40
        }
      ]
    },
    {
      "cell_type": "markdown",
      "source": [
        "# Separamos los datos\n",
        "Separamos los datos donde el 80% de los datos del dataset seran para el entrenamiento del modelo, mientras que el 20% restante del dataset sera usando para hacer las pruebas y validaciones correspondientes."
      ],
      "metadata": {
        "id": "9zNshKyQKdFf"
      }
    },
    {
      "cell_type": "code",
      "source": [
        "# Separar el conjunto de datos en conjuntos de entrenamiento y prueba\n",
        "train_dataset, test_dataset = train_test_split(dataset, test_size=0.2, random_state=42)\n",
        "\n",
        "# Separar los conjuntos de características (X) y las etiquetas (y) para el conjunto de prueba\n",
        "X_test = test_dataset.drop(['Diabetes'], axis=1).values\n",
        "y_test = test_dataset['Diabetes'].values\n",
        "\n",
        "# Separar los conjuntos de características (X) y las etiquetas (y) para el conjunto de entrenamiento\n",
        "X_train = train_dataset.drop(['Diabetes'], axis=1).values\n",
        "y_train = train_dataset['Diabetes'].values\n",
        "\n",
        "# Calcular el número de ejemplos de entrenamiento\n",
        "m_train = len(y_train)\n",
        "\n",
        "# Imprimir algunos ejemplos de los datos de entrenamiento\n",
        "print('{:>8s}{:>8s}{:>14s}{:>8s}{:>8s}{:>18s}{:>20s}{:>16s}{:>8s}{:>8s}{:>10s}{:>12s}{:>18s}{:>14s}{:>12s}{:>10s}{:>10s}{:>10s}{:>10s}{:>8s}{:>8s}{:>10s}'.format(\n",
        "    'PA alta', 'col alta', 'control de col', 'IMC', 'fumador', 'acc. cerebrovascular', 'enfermedad cardíaca', 'actividad física', 'frutas', 'verduras', 'alcohol', 'atencion medica', 'Falta de atencion por Dinero', 'salud general', 'salud mental', 'salud física', 'caminata', 'sexo', 'edad', 'educación', 'ingresos', 'Y'\n",
        "))\n",
        "\n",
        "print('-' * 280)\n",
        "\n",
        "\n",
        "for i in range(10):\n",
        "    print('{:8.0f}{:8.0f}{:14.0f}{:8.0f}{:8.0f}{:18.0f}{:20.0f}{:16.0f}{:8.0f}{:8.0f}{:10.0f}{:12.0f}{:18.0f}{:14.0f}{:12.0f}{:10.0f}{:10.0f}{:10.0f}{:10.0f}{:8.0f}{:8.0f}{:10.0f}'.format(\n",
        "        X_train[i, 0], X_train[i, 1], X_train[i, 2], X_train[i, 3], X_train[i, 4], X_train[i, 5], X_train[i, 6], X_train[i, 7], X_train[i, 8], X_train[i, 9], X_train[i, 10], X_train[i, 11], X_train[i, 12], X_train[i, 13], X_train[i, 14], X_train[i, 15], X_train[i, 16], X_train[i, 17], X_train[i, 18], X_train[i, 19], X_train[i, 20], y_train[i]\n",
        "    ))\n",
        "\n",
        "# Imprimir la cantidad de ejemplos de entrenamiento y prueba\n",
        "print(\" \")\n",
        "print('El 80% de ejemplos para entrenamiento son la cantidad de: {:.0f} de ejemplos'.format(len(train_dataset)))\n",
        "print('El 20% de ejemplos para pruebas son la cantidad de: {:.0f} de ejemplos'.format(len(test_dataset)))"
      ],
      "metadata": {
        "colab": {
          "base_uri": "https://localhost:8080/"
        },
        "id": "FV7CQErUKgNW",
        "outputId": "66955ef8-424d-4716-a62c-3ffd5d384ada"
      },
      "execution_count": 41,
      "outputs": [
        {
          "output_type": "stream",
          "name": "stdout",
          "text": [
            " PA altacol altacontrol de col     IMC fumadoracc. cerebrovascular enfermedad cardíacaactividad física  frutasverduras   alcoholatencion medicaFalta de atencion por Dinero salud generalsalud mentalsalud física  caminata      sexo      edadeducacióningresos         Y\n",
            "----------------------------------------------------------------------------------------------------------------------------------------------------------------------------------------------------------------------------------------------------------------------------------------\n",
            "       0       0             1      25       0                 0                   0               1       1       1         0           1                 0             1           0         1         0         0         8       6       8         0\n",
            "       0       0             1      29       1                 0                   0               1       1       0         1           1                 0             2          30        30         0         1         8       5       7         0\n",
            "       1       0             1      28       0                 0                   0               1       1       0         0           1                 0             4          20         0         0         1        13       2       2         0\n",
            "       1       1             1      36       0                 0                   0               0       1       1         0           1                 0             2           0        30         1         1        10       4       5         1\n",
            "       1       0             1      29       0                 0                   0               0       0       1         0           1                 0             5           0        30         1         1         7       4       4         1\n",
            "       1       1             1      43       1                 0                   0               0       1       1         0           1                 0             4          30        30         1         0         8       5       5         1\n",
            "       0       1             1      23       1                 0                   0               0       0       1         0           1                 0             2           1         7         0         1        10       5       7         0\n",
            "       0       0             1      18       0                 0                   0               1       0       1         0           1                 0             1           0         0         0         0         2       6       6         0\n",
            "       1       0             1      29       1                 0                   1               1       0       1         0           1                 0             3           0         0         0         1        11       6       5         1\n",
            "       1       0             1      32       0                 0                   0               1       1       1         0           0                 0             3           0         0         0         1         9       4       3         0\n",
            " \n",
            "El 80% de ejemplos para entrenamiento son la cantidad de: 20000 de ejemplos\n",
            "El 20% de ejemplos para pruebas son la cantidad de: 5000 de ejemplos\n"
          ]
        }
      ]
    },
    {
      "cell_type": "markdown",
      "source": [
        "# Normalización de caracteristicas\n",
        "Al visualizar los datos se puede observar que las caracteristicas tienen diferentes magnitudes, por lo cual se debe transformar cada valor en una escala de valores similares, esto con el fin de que el descenso por el gradiente pueda converger mas rapidamente. Se aplica la normalizacion esto debido a que los datos de las X estan a diferentes escalas.\n",
        "\n",
        "Hacemos el uso de la siguiente funcion para normalizar los datos de las columnas X:"
      ],
      "metadata": {
        "id": "1ystk_aGKnfk"
      }
    },
    {
      "cell_type": "code",
      "source": [
        "def  featureNormalize(X):\n",
        "    X_norm = X.copy()\n",
        "\n",
        "    #creamos un array de ceros con una longitud igual al número de columnas en el array X. La variable mu y sigma se inicializa como este array de ceros.\n",
        "    mu = np.zeros(X.shape[1])\n",
        "    sigma = np.zeros(X.shape[1])\n",
        "\n",
        "    #Creamos el promedio de cada columna de X\n",
        "    mu = np.mean(X, axis = 0)\n",
        "    sigma = np.std(X, axis = 0)\n",
        "\n",
        "    sigma[sigma == 0] = 1\n",
        "\n",
        "    #normalizamos los datos con la siguiente formula\n",
        "    X_norm = (X - mu) / sigma\n",
        "\n",
        "    return X_norm, mu, sigma\n"
      ],
      "metadata": {
        "id": "Ncxmel1GKrP9"
      },
      "execution_count": 42,
      "outputs": []
    },
    {
      "cell_type": "code",
      "source": [
        "# llama featureNormalize con los datos cargados\n",
        "X_norm, mu, sigma = featureNormalize(X_train)\n",
        "# imprimir todos las X_norm de datos solo 20\n",
        "print('{:>8s}{:>8s}{:>14s}{:>8s}{:>8s}{:>18s}{:>20s}{:>16s}{:>8s}{:>8s}{:>10s}{:>12s}{:>18s}{:>14s}{:>12s}{:>10s}{:>10s}{:>10s}{:>10s}{:>8s}{:>8s}'.format(\n",
        "    'PA alta', 'col alta', 'control de col', 'IMC', 'fumador', 'acc. cerebrovascular', 'enfermedad cardíaca', 'actividad física', 'frutas', 'verduras', 'alcohol', 'atencion medica', 'Falta de atencion por Dinero', 'salud general', 'salud mental', 'salud física', 'caminata', 'sexo', 'edad', 'educación', 'ingresos'\n",
        "))\n",
        "\n",
        "print('-' * 280)\n",
        "\n",
        "\n",
        "for i in range(20):\n",
        "    print('{:8.0f}{:8.0f}{:14.0f}{:8.0f}{:8.0f}{:18.0f}{:20.0f}{:16.0f}{:8.0f}{:8.0f}{:10.0f}{:12.0f}{:18.0f}{:14.0f}{:12.0f}{:10.0f}{:10.0f}{:10.0f}{:10.0f}{:8.0f}{:8.0f}'.format(\n",
        "        X_norm[i, 0], X_norm[i, 1], X_norm[i, 2], X_norm[i, 3], X_norm[i, 4], X_norm[i, 5], X_norm[i, 6], X_norm[i, 7], X_norm[i, 8], X_norm[i, 9], X_norm[i, 10], X_norm[i, 11], X_norm[i, 12], X_norm[i, 13], X_norm[i, 14], X_norm[i, 15], X_norm[i, 16], X_norm[i, 17], X_norm[i, 18], X_norm[i, 19], X_norm[i, 20]\n",
        "    ))"
      ],
      "metadata": {
        "colab": {
          "base_uri": "https://localhost:8080/"
        },
        "id": "Hh9ljZf0KzdR",
        "outputId": "13982048-1e21-4c64-aac9-a3ce36fcdd17"
      },
      "execution_count": 43,
      "outputs": [
        {
          "output_type": "stream",
          "name": "stdout",
          "text": [
            " PA altacol altacontrol de col     IMC fumadoracc. cerebrovascular enfermedad cardíacaactividad física  frutasverduras   alcoholatencion medicaFalta de atencion por Dinero salud generalsalud mentalsalud física  caminata      sexo      edadeducacióningresos\n",
            "----------------------------------------------------------------------------------------------------------------------------------------------------------------------------------------------------------------------------------------------------------------------------------------\n",
            "      -1      -1             0      -0      -1                -0                  -0               1       1       0        -0           0                -0            -1          -0        -0        -0        -1         0       1       1\n",
            "      -1      -1             0       0       1                -0                  -0               1       1      -2         4           0                -0            -0           4         3        -0         1         0      -0       0\n",
            "       1      -1             0      -0      -1                -0                  -0               1       1      -2        -0           0                -0             1           2        -1        -0         1         2      -3      -2\n",
            "       1       1             0       1      -1                -0                  -0              -2       1       0        -0           0                -0            -0          -0         3         2         1         1      -1      -0\n",
            "       1      -1             0       0      -1                -0                  -0              -2      -1       0        -0           0                -0             2          -0         3         2         1        -0      -1      -1\n",
            "       1       1             0       2       1                -0                  -0              -2       1       0        -0           0                -0             1           4         3         2        -1         0      -0      -0\n",
            "      -1       1             0      -1       1                -0                  -0              -2      -1       0        -0           0                -0            -0          -0         0        -0         1         1      -0       0\n",
            "      -1      -1             0      -2      -1                -0                  -0               1      -1       0        -0           0                -0            -1          -0        -1        -0        -1        -2       1       0\n",
            "       1      -1             0       0       1                -0                   3               1      -1       0        -0           0                -0             0          -0        -1        -0         1         1       1      -0\n",
            "       1      -1             0       1      -1                -0                  -0               1       1       0        -0          -4                -0             0          -0        -1        -0         1         0      -1      -1\n",
            "       1      -1             0       0      -1                -0                  -0               1       1       0        -0           0                -0             0          -0        -1        -0         1        -1       1       1\n",
            "       1       1             0      -0      -1                -0                  -0               1      -1       0        -0           0                -0            -0          -0        -1        -0        -1         1      -0       1\n",
            "      -1      -1             0      -0       1                -0                  -0               1      -1       0        -0           0                -0            -0          -0         1        -0        -1         1       1       1\n",
            "       1       1             0       1      -1                -0                  -0               1      -1       0        -0           0                -0             0          -0         0        -0        -1         1       1       1\n",
            "       1       1             0       0       1                -0                  -0              -2      -1       0        -0           0                -0             0          -0        -1        -0        -1        -0      -1       0\n",
            "      -1      -1             0      -1       1                -0                  -0              -2       1       0        -0           0                -0            -1          -0        -1        -0        -1         1      -0      -0\n",
            "       1       1             0       1       1                -0                  -0               1       1      -2        -0           0                -0            -0          -0        -1        -0        -1         2      -0       0\n",
            "      -1       1             0      -1      -1                -0                  -0               1      -1      -2        -0           0                -0             0          -0        -0        -0         1        -1      -0      -1\n",
            "      -1       1             0       0      -1                -0                  -0               1      -1       0        -0           0                 3            -1          -0        -1        -0        -1         0       1       0\n",
            "       1      -1             0       2       1                -0                  -0               1       1       0        -0           0                -0            -0          -0        -1        -0        -1         0      -0       0\n"
          ]
        }
      ]
    },
    {
      "cell_type": "markdown",
      "source": [
        "Añadimos una columan de unos a la matriz de X_norm, esto para hacer complemento a Theta cero:"
      ],
      "metadata": {
        "id": "ZB0eolHYK3lC"
      }
    },
    {
      "cell_type": "code",
      "source": [
        "X_ready = np.concatenate([np.ones((m_train, 1)), X_norm], axis=1)\n",
        "# print(len(X_ready[0]))\n",
        "# imprimir todos las X_ready de datos solo 20\n",
        "print('{:>8s}{:>8s}{:>14s}{:>8s}{:>8s}{:>18s}{:>20s}{:>16s}{:>8s}{:>8s}{:>10s}{:>12s}{:>18s}{:>14s}{:>12s}{:>10s}{:>10s}{:>10s}{:>10s}{:>8s}{:>8s}'.format(\n",
        "    'X(0)','PA alta', 'col alta', 'control de col', 'IMC', 'fumador', 'acc. cerebrovascular', 'enfermedad cardíaca', 'actividad física', 'frutas', 'verduras', 'alcohol', 'atencion medica', 'Falta de atencion por Dinero', 'salud general', 'salud mental', 'salud física', 'caminata', 'sexo', 'edad', 'educación', 'ingresos'\n",
        "))\n",
        "\n",
        "print('-' * 280)\n",
        "\n",
        "\n",
        "for i in range(10):\n",
        "    print('{:8.0f}{:8.0f}{:14.0f}{:8.0f}{:8.0f}{:18.0f}{:20.0f}{:16.0f}{:8.0f}{:8.0f}{:10.0f}{:12.0f}{:18.0f}{:14.0f}{:12.0f}{:10.0f}{:10.0f}{:10.0f}{:10.0f}{:8.0f}{:8.0f}'.format(\n",
        "        X_ready[i, 0], X_ready[i, 1], X_ready[i, 2], X_ready[i, 3], X_ready[i, 4], X_ready[i, 5], X_ready[i, 6], X_ready[i, 7], X_ready[i, 8], X_ready[i, 9], X_ready[i, 10], X_ready[i, 11], X_ready[i, 12], X_ready[i, 13], X_ready[i, 14], X_ready[i, 15], X_ready[i, 16], X_ready[i, 17], X_ready[i, 18], X_ready[i, 19], X_ready[i, 20],X_ready[i, 21]\n",
        "    ))"
      ],
      "metadata": {
        "colab": {
          "base_uri": "https://localhost:8080/"
        },
        "id": "h01ZFH8QK5-i",
        "outputId": "a9ee24fa-04ca-43eb-d545-46dd251cbf26"
      },
      "execution_count": 44,
      "outputs": [
        {
          "output_type": "stream",
          "name": "stdout",
          "text": [
            "    X(0) PA alta      col altacontrol de col     IMC           fumadoracc. cerebrovascularenfermedad cardíacaactividad física  frutas  verduras     alcohol   atencion medicaFalta de atencion por Dinerosalud generalsalud mentalsalud física  caminata      sexo    edadeducación\n",
            "----------------------------------------------------------------------------------------------------------------------------------------------------------------------------------------------------------------------------------------------------------------------------------------\n",
            "       1      -1            -1       0      -0                -1                  -0              -0       1       1         0          -0                 0            -0          -1        -0        -0        -0        -1       0       1\n",
            "       1      -1            -1       0       0                 1                  -0              -0       1       1        -2           4                 0            -0          -0         4         3        -0         1       0      -0\n",
            "       1       1            -1       0      -0                -1                  -0              -0       1       1        -2          -0                 0            -0           1         2        -1        -0         1       2      -3\n",
            "       1       1             1       0       1                -1                  -0              -0      -2       1         0          -0                 0            -0          -0        -0         3         2         1       1      -1\n",
            "       1       1            -1       0       0                -1                  -0              -0      -2      -1         0          -0                 0            -0           2        -0         3         2         1      -0      -1\n",
            "       1       1             1       0       2                 1                  -0              -0      -2       1         0          -0                 0            -0           1         4         3         2        -1       0      -0\n",
            "       1      -1             1       0      -1                 1                  -0              -0      -2      -1         0          -0                 0            -0          -0        -0         0        -0         1       1      -0\n",
            "       1      -1            -1       0      -2                -1                  -0              -0       1      -1         0          -0                 0            -0          -1        -0        -1        -0        -1      -2       1\n",
            "       1       1            -1       0       0                 1                  -0               3       1      -1         0          -0                 0            -0           0        -0        -1        -0         1       1       1\n",
            "       1       1            -1       0       1                -1                  -0              -0       1       1         0          -0                -4            -0           0        -0        -1        -0         1       0      -1\n"
          ]
        }
      ]
    },
    {
      "cell_type": "markdown",
      "source": [
        "Fución Sigmoidea\n",
        "La hipotesis para la regresión logistica se define como:\n",
        "\n",
        "hθ(x)=g(θTx)\n",
        "\n",
        "donde la función  g  is la función sigmoidea. La función sigmoidea se define como:\n",
        "\n",
        "g(z)=11+e−z\n",
        ".\n",
        "\n",
        "Los resultados que debe generar la funcion sigmoidea para valores positivos amplios de x, deben ser cercanos a 1, mientras que para valores negativos grandes, la sigmoide debe generar valores cercanos 0. La evaluacion de sigmoid(0) debe dar un resultado exacto de 0.5. Esta funcion tambien debe poder trabajar con vectores y matrices."
      ],
      "metadata": {
        "id": "sjWWilUvK8xE"
      }
    },
    {
      "cell_type": "markdown",
      "source": [
        "También conocida como la función logística, es una función matemática que toma cualquier número real como entrada y devuelve un valor en el rango de 0 a 1. Donde nuestra Z es nuestra hipotesis."
      ],
      "metadata": {
        "id": "dN2Ge-PRLD2S"
      }
    },
    {
      "cell_type": "code",
      "source": [
        "def sigmoid(z):\n",
        "    # Calcula la sigmoide de una entrada z\n",
        "    # convierte la intrada a un arreglo numpy\n",
        "    z = np.array(z)\n",
        "\n",
        "    g = np.zeros(z.shape)\n",
        "\n",
        "    g = 1 / (1 + np.exp(-z))\n",
        "\n",
        "    return g\n"
      ],
      "metadata": {
        "id": "ZZ24nh-YLGBv"
      },
      "execution_count": 45,
      "outputs": []
    },
    {
      "cell_type": "code",
      "source": [
        "# Prueba la implementacion de la funcion sigmoid\n",
        "z = [-100, 0.5, 1000000]\n",
        "g = sigmoid(z)\n",
        "\n",
        "print('g(', z, ') = ', g)"
      ],
      "metadata": {
        "colab": {
          "base_uri": "https://localhost:8080/"
        },
        "id": "Q4rG3ZY8LLmo",
        "outputId": "2dbcc2b8-db2e-4c8e-8269-382a190e670b"
      },
      "execution_count": 47,
      "outputs": [
        {
          "output_type": "stream",
          "name": "stdout",
          "text": [
            "g( [-100, 0.5, 1000000] ) =  [3.72007598e-44 6.22459331e-01 1.00000000e+00]\n"
          ]
        }
      ]
    },
    {
      "cell_type": "markdown",
      "source": [
        "# Función de Costo y Gradiente\n",
        "Se implementa la funcion cost y gradient, para la regresión logistica. Antes de continuar es importante agregar el termino de intercepcion a X."
      ],
      "metadata": {
        "id": "4MQXjAy9LRaM"
      }
    },
    {
      "cell_type": "code",
      "source": [
        "def calcularCosto(theta, X, y):\n",
        "    # Inicializar algunos valores utiles\n",
        "    m = y.size  # numero de ejemplos de entrenamiento\n",
        "\n",
        "    J = 0\n",
        "    h = sigmoid(X.dot(theta.T))\n",
        "    J = (1 / m) * np.sum(-y.dot(np.log(h)) - (1 - y).dot(np.log(1 - h)))\n",
        "\n",
        "    return J"
      ],
      "metadata": {
        "id": "v5JSsRkELZhP"
      },
      "execution_count": 48,
      "outputs": []
    },
    {
      "cell_type": "markdown",
      "source": [
        "escenso por el gradiente\n",
        "El costo  J(θ)  esta parametrizado por el vector  θ , no  X  y  y . Donde hay que minimizar el valor de  J(θ)  cambiando los valores del vector  θ . Una buena manera de verificar si el descenso por el gradiente esta trabajando correctamente es ver los valores de  J(θ)  y verificar si estos decresen en cada paso.\n",
        "\n",
        "Creamos la funcion para calcular el descenso por la gradiente y obtener un theta y J_historico. haciendo uso de la sigmoid()"
      ],
      "metadata": {
        "id": "uPDouCn_Lhqq"
      }
    },
    {
      "cell_type": "code",
      "source": [
        "def descensoGradiente(theta, X, y, alpha, num_iters):\n",
        "    # Inicializa algunos valores\n",
        "    m = y.shape[0] # numero de ejemplos de entrenamiento\n",
        "\n",
        "    # realiza una copia de theta, el cual será acutalizada por el descenso por el gradiente\n",
        "    theta = theta.copy()\n",
        "    J_history = []\n",
        "\n",
        "    for i in range(num_iters):\n",
        "        h = sigmoid(X.dot(theta.T))\n",
        "        theta = theta - (alpha / m) * (h - y).dot(X)\n",
        "\n",
        "        J_history.append(calcularCosto(theta, X, y))\n",
        "    return theta, J_history"
      ],
      "metadata": {
        "id": "xW_wDwKALjnA"
      },
      "execution_count": 54,
      "outputs": []
    },
    {
      "cell_type": "code",
      "source": [
        "# Elegir algun valor para alpha (probar varias alternativas)\n",
        "alpha = 0.001\n",
        "num_iters = 10000\n",
        "\n",
        "# inicializa theta y ejecuta el descenso por el gradiente\n",
        "theta = np.zeros(22)\n",
        "theta, J_history = descensoGradiente(theta, X_ready, y_train, alpha, num_iters)\n",
        "\n",
        "# Grafica la convergencia del costo\n",
        "pyplot.plot(np.arange(len(J_history)), J_history, lw=2)\n",
        "pyplot.xlabel('Numero de iteraciones')\n",
        "pyplot.ylabel('Costo J')\n",
        "\n",
        "# Muestra los resultados del descenso por el gradiente\n",
        "print('theta calculado por el descenso por el gradiente: {:s}'.format(str(theta)))\n",
        "\n",
        "#mostramos el ultimo costo, este seria el mejor costo\n",
        "print(\"########################################################################################################\")\n",
        "print('Con un costo de: {:.6f}'.format(J_history[-1]))\n"
      ],
      "metadata": {
        "colab": {
          "base_uri": "https://localhost:8080/",
          "height": 553
        },
        "id": "LrUDiR0ILpbj",
        "outputId": "e6964fc6-9f2e-431d-ef03-719b16649894"
      },
      "execution_count": 56,
      "outputs": [
        {
          "output_type": "stream",
          "name": "stdout",
          "text": [
            "theta calculado por el descenso por el gradiente: [-1.52005431  0.21900716  0.16271642  0.07237035  0.24142071  0.00378332\n",
            "  0.03643948  0.08435072 -0.01193848 -0.0084071  -0.02099523 -0.08075769\n",
            "  0.01701188 -0.00520699  0.24709722 -0.01507086  0.02363389  0.07670331\n",
            "  0.05044359  0.1655729  -0.05278787 -0.08544109]\n",
            "########################################################################################################\n",
            "Con un costo de: 0.352810\n"
          ]
        },
        {
          "output_type": "display_data",
          "data": {
            "text/plain": [
              "<Figure size 640x480 with 1 Axes>"
            ],
            "image/png": "[encoded data removed]"
          },
          "metadata": {}
        }
      ]
    },
    {
      "cell_type": "code",
      "source": [
        "X_array = [1,1.0,1.0,1.0,40.0,1.0,0.0,0.0,0.0,0.0,1.0,0.0,1.0,0.0,5.0,18.0,15.0,1.0,0.0,9.0,4.0,3.0]\n",
        "X_array_copy = X_array.copy()\n",
        "#Se normaliza las caracteristicas para la prueba. haciendo el uso de mu y sigma calculados anteriormente, solamente los valores despues del primero, porque este es el 1.\n",
        "X_array[1:] = (X_array[1:] - mu) / sigma\n",
        "\n",
        "resultados = sigmoid(np.dot(X_array, theta))\n",
        "\n",
        "print(f\"Una persona con las caracteristicas: {X_array_copy} \")\n",
        "print(f'Tiene una probabilidad de tener diabetes de: {resultados * 100} %')\n"
      ],
      "metadata": {
        "colab": {
          "base_uri": "https://localhost:8080/"
        },
        "id": "mnViltvsNm85",
        "outputId": "111735ec-a870-47d1-d07e-20abce041adb"
      },
      "execution_count": 57,
      "outputs": [
        {
          "output_type": "stream",
          "name": "stdout",
          "text": [
            "Una persona con las caracteristicas: [1, 1.0, 1.0, 1.0, 40.0, 1.0, 0.0, 0.0, 0.0, 0.0, 1.0, 0.0, 1.0, 0.0, 5.0, 18.0, 15.0, 1.0, 0.0, 9.0, 4.0, 3.0] \n",
            "Tiene una probabilidad de tener diabetes de: 58.18577930209623 %\n"
          ]
        }
      ]
    },
    {
      "cell_type": "code",
      "source": [
        "def costFunction(theta, X, y):\n",
        "    # Inicializar algunos valores utiles\n",
        "    m = y.size  # numero de ejemplos de entrenamiento\n",
        "\n",
        "    J = 0\n",
        "    grad = np.zeros(theta.shape)\n",
        "\n",
        "    h = sigmoid(X.dot(theta.T))\n",
        "\n",
        "    J = (1 / m) * np.sum(-y.dot(np.log(h)) - (1 - y).dot(np.log(1 - h)))\n",
        "    grad = (1 / m) * (h - y).dot(X)\n",
        "\n",
        "    return J, grad"
      ],
      "metadata": {
        "id": "Gczq-dkQN_LD"
      },
      "execution_count": 58,
      "outputs": []
    },
    {
      "cell_type": "markdown",
      "source": [
        "# PREDICCION\n",
        "Se creo una matriz con 15 ejemplos, donde se hace las predicciones correspondientes:"
      ],
      "metadata": {
        "id": "oHK9EWCvQvyc"
      }
    },
    {
      "cell_type": "markdown",
      "source": [
        "Definiendo nuestro umbral clasificador\n",
        "Donde:\n",
        "\n",
        "Si  h(θ)  >= 0.5, predice \"y = 1\".\n",
        "Si  h(θ)  < 0.5 , predice \"y = 0\"."
      ],
      "metadata": {
        "id": "s_ODJ7XaQ9SS"
      }
    },
    {
      "cell_type": "code",
      "source": [
        "nombres_columnas = ['PA alta', 'col alta', 'control de col', 'IMC', 'fumador', 'acc. cerebrovascular', 'enfermedad cardíaca', 'actividad física', 'frutas', 'verduras', 'alcohol', 'atencion medica', 'Falta de atencion por Dinero', 'salud general', 'salud mental', 'salud física', 'caminata', 'sexo', 'edad', 'educación', 'ingresos', 'Diabetes(%)', 'Diabetes(si/no)' ]\n",
        "\n",
        "matriz_datos = np.array([\n",
        "[0.0,0.0,1.0,39.0,0.0,0.0,0.0,1.0,0.0,1.0,0.0,0.0,1.0,3.0,5.0,5.0,0.0,1.0,3.0,6.0,4.0],\n",
        "[1.0,1.0,1.0,32.0,1.0,0.0,0.0,0.0,0.0,0.0,1.0,1.0,0.0,4.0,0.0,0.0,0.0,1.0,11.0,5.0,8.0],\n",
        "[1.0,0.0,1.0,26.0,0.0,0.0,0.0,1.0,1.0,1.0,0.0,1.0,0.0,1.0,0.0,0.0,0.0,1.0,8.0,6.0,8.0],\n",
        "[0.0,0.0,1.0,25.0,0.0,0.0,0.0,1.0,1.0,1.0,0.0,1.0,0.0,3.0,0.0,0.0,0.0,0.0,7.0,6.0,7.0],\n",
        "[1.0,1.0,1.0,24.0,0.0,1.0,0.0,0.0,1.0,1.0,0.0,1.0,0.0,1.0,0.0,3.0,1.0,0.0,12.0,5.0,7.0],\n",
        "[0.0,0.0,1.0,23.0,0.0,0.0,0.0,0.0,1.0,1.0,0.0,1.0,0.0,4.0,0.0,30.0,1.0,0.0,7.0,6.0,7.0],\n",
        "[1.0,1.0,1.0,34.0,1.0,0.0,0.0,1.0,1.0,1.0,0.0,1.0,0.0,3.0,0.0,0.0,0.0,1.0,7.0,5.0,8.0],\n",
        "[1.0,1.0,1.0,31.0,1.0,0.0,0.0,0.0,0.0,0.0,0.0,1.0,1.0,5.0,30.0,30.0,1.0,0.0,5.0,4.0,2.0],\n",
        "[0.0,0.0,1.0,27.0,0.0,0.0,0.0,0.0,1.0,1.0,0.0,1.0,0.0,1.0,0.0,0.0,0.0,0.0,5.0,6.0,7.0],\n",
        "[0.0,1.0,1.0,28.0,0.0,0.0,0.0,0.0,1.0,1.0,0.0,1.0,1.0,5.0,0.0,28.0,0.0,0.0,12.0,4.0,1.0],\n",
        "[1.0,1.0,1.0,27.0,1.0,0.0,0.0,1.0,0.0,0.0,0.0,1.0,0.0,2.0,0.0,0.0,0.0,0.0,11.0,6.0,7.0],\n",
        "[0.0,0.0,1.0,24.0,1.0,0.0,0.0,1.0,1.0,0.0,0.0,1.0,0.0,1.0,0.0,0.0,0.0,1.0,10.0,2.0,3.0],\n",
        "[1.0,1.0,1.0,29.0,0.0,1.0,0.0,0.0,0.0,0.0,0.0,1.0,0.0,5.0,0.0,30.0,1.0,0.0,8.0,5.0,1.0],\n",
        "[1.0,0.0,1.0,21.0,0.0,0.0,0.0,1.0,1.0,1.0,0.0,1.0,0.0,2.0,0.0,1.0,0.0,0.0,9.0,6.0,7.0],\n",
        "[0.0,1.0,1.0,27.0,0.0,0.0,0.0,1.0,1.0,1.0,0.0,1.0,0.0,2.0,0.0,0.0,0.0,1.0,4.0,6.0,8.0],\n",
        "])\n",
        "\n",
        "para_tabla = matriz_datos.copy()\n",
        "#creamos un vector parta almacenar cada Y predicha\n",
        "y_pre = []\n",
        "\n",
        "matriz_datos = (matriz_datos- mu) / sigma\n",
        "matriz_datos = np.concatenate([np.ones((len(matriz_datos), 1)), matriz_datos], axis=1)\n",
        "\n",
        "# Calculamos la Y predicha de los 11 ejemplos de prediccion\n",
        "# Calculamos la Y predicha de cada fila de la matriz\n",
        "for j in matriz_datos:\n",
        "    y_pre.append(sigmoid(np.dot(j, theta)))\n",
        "\n",
        "# Convertimos la lista a un array unidimensional\n",
        "\n",
        "y_pre = np.array(y_pre)\n",
        "\n",
        "# usamos umbral para definir si tiene o no la enfermedad\n",
        "y_pre_umbral = (y_pre >= 0.5).astype(int)\n",
        "\n",
        "para_tabla = np.column_stack((para_tabla, y_pre))\n",
        "para_tabla = np.column_stack((para_tabla, y_pre_umbral))\n",
        "# Convertir la matriz en una lista de listas\n",
        "datos_para_tabla = para_tabla.tolist()\n",
        "\n",
        "# Imprimir la tabla\n",
        "print(tabulate(datos_para_tabla, headers=nombres_columnas, tablefmt='grid'))\n"
      ],
      "metadata": {
        "colab": {
          "base_uri": "https://localhost:8080/"
        },
        "id": "cymdrXl0RAXx",
        "outputId": "033df80c-cead-4532-9952-9e645a73546f"
      },
      "execution_count": 60,
      "outputs": [
        {
          "output_type": "stream",
          "name": "stdout",
          "text": [
            "+-----------+------------+------------------+-------+-----------+------------------------+-----------------------+--------------------+----------+------------+-----------+-------------------+--------------------------------+-----------------+----------------+----------------+------------+--------+--------+-------------+------------+---------------+-------------------+\n",
            "|   PA alta |   col alta |   control de col |   IMC |   fumador |   acc. cerebrovascular |   enfermedad cardíaca |   actividad física |   frutas |   verduras |   alcohol |   atencion medica |   Falta de atencion por Dinero |   salud general |   salud mental |   salud física |   caminata |   sexo |   edad |   educación |   ingresos |   Diabetes(%) |   Diabetes(si/no) |\n",
            "+===========+============+==================+=======+===========+========================+=======================+====================+==========+============+===========+===================+================================+=================+================+================+============+========+========+=============+============+===============+===================+\n",
            "|         0 |          0 |                1 |    39 |         0 |                      0 |                     0 |                  1 |        0 |          1 |         0 |                 0 |                              1 |               3 |              5 |              5 |          0 |      1 |      3 |           6 |          4 |      0.164586 |                 0 |\n",
            "+-----------+------------+------------------+-------+-----------+------------------------+-----------------------+--------------------+----------+------------+-----------+-------------------+--------------------------------+-----------------+----------------+----------------+------------+--------+--------+-------------+------------+---------------+-------------------+\n",
            "|         1 |          1 |                1 |    32 |         1 |                      0 |                     0 |                  0 |        0 |          0 |         1 |                 1 |                              0 |               4 |              0 |              0 |          0 |      1 |     11 |           5 |          8 |      0.321221 |                 0 |\n",
            "+-----------+------------+------------------+-------+-----------+------------------------+-----------------------+--------------------+----------+------------+-----------+-------------------+--------------------------------+-----------------+----------------+----------------+------------+--------+--------+-------------+------------+---------------+-------------------+\n",
            "|         1 |          0 |                1 |    26 |         0 |                      0 |                     0 |                  1 |        1 |          1 |         0 |                 1 |                              0 |               1 |              0 |              0 |          0 |      1 |      8 |           6 |          8 |      0.123277 |                 0 |\n",
            "+-----------+------------+------------------+-------+-----------+------------------------+-----------------------+--------------------+----------+------------+-----------+-------------------+--------------------------------+-----------------+----------------+----------------+------------+--------+--------+-------------+------------+---------------+-------------------+\n",
            "|         0 |          0 |                1 |    25 |         0 |                      0 |                     0 |                  1 |        1 |          1 |         0 |                 1 |                              0 |               3 |              0 |              0 |          0 |      0 |      7 |           6 |          7 |      0.108239 |                 0 |\n",
            "+-----------+------------+------------------+-------+-----------+------------------------+-----------------------+--------------------+----------+------------+-----------+-------------------+--------------------------------+-----------------+----------------+----------------+------------+--------+--------+-------------+------------+---------------+-------------------+\n",
            "|         1 |          1 |                1 |    24 |         0 |                      1 |                     0 |                  0 |        1 |          1 |         0 |                 1 |                              0 |               1 |              0 |              3 |          1 |      0 |     12 |           5 |          7 |      0.25209  |                 0 |\n",
            "+-----------+------------+------------------+-------+-----------+------------------------+-----------------------+--------------------+----------+------------+-----------+-------------------+--------------------------------+-----------------+----------------+----------------+------------+--------+--------+-------------+------------+---------------+-------------------+\n",
            "|         0 |          0 |                1 |    23 |         0 |                      0 |                     0 |                  0 |        1 |          1 |         0 |                 1 |                              0 |               4 |              0 |             30 |          1 |      0 |      7 |           6 |          7 |      0.160708 |                 0 |\n",
            "+-----------+------------+------------------+-------+-----------+------------------------+-----------------------+--------------------+----------+------------+-----------+-------------------+--------------------------------+-----------------+----------------+----------------+------------+--------+--------+-------------+------------+---------------+-------------------+\n",
            "|         1 |          1 |                1 |    34 |         1 |                      0 |                     0 |                  1 |        1 |          1 |         0 |                 1 |                              0 |               3 |              0 |              0 |          0 |      1 |      7 |           5 |          8 |      0.296803 |                 0 |\n",
            "+-----------+------------+------------------+-------+-----------+------------------------+-----------------------+--------------------+----------+------------+-----------+-------------------+--------------------------------+-----------------+----------------+----------------+------------+--------+--------+-------------+------------+---------------+-------------------+\n",
            "|         1 |          1 |                1 |    31 |         1 |                      0 |                     0 |                  0 |        0 |          0 |         0 |                 1 |                              1 |               5 |             30 |             30 |          1 |      0 |      5 |           4 |          2 |      0.463874 |                 0 |\n",
            "+-----------+------------+------------------+-------+-----------+------------------------+-----------------------+--------------------+----------+------------+-----------+-------------------+--------------------------------+-----------------+----------------+----------------+------------+--------+--------+-------------+------------+---------------+-------------------+\n",
            "|         0 |          0 |                1 |    27 |         0 |                      0 |                     0 |                  0 |        1 |          1 |         0 |                 1 |                              0 |               1 |              0 |              0 |          0 |      0 |      5 |           6 |          7 |      0.071731 |                 0 |\n",
            "+-----------+------------+------------------+-------+-----------+------------------------+-----------------------+--------------------+----------+------------+-----------+-------------------+--------------------------------+-----------------+----------------+----------------+------------+--------+--------+-------------+------------+---------------+-------------------+\n",
            "|         0 |          1 |                1 |    28 |         0 |                      0 |                     0 |                  0 |        1 |          1 |         0 |                 1 |                              1 |               5 |              0 |             28 |          0 |      0 |     12 |           4 |          1 |      0.37361  |                 0 |\n",
            "+-----------+------------+------------------+-------+-----------+------------------------+-----------------------+--------------------+----------+------------+-----------+-------------------+--------------------------------+-----------------+----------------+----------------+------------+--------+--------+-------------+------------+---------------+-------------------+\n",
            "|         1 |          1 |                1 |    27 |         1 |                      0 |                     0 |                  1 |        0 |          0 |         0 |                 1 |                              0 |               2 |              0 |              0 |          0 |      0 |     11 |           6 |          7 |      0.233503 |                 0 |\n",
            "+-----------+------------+------------------+-------+-----------+------------------------+-----------------------+--------------------+----------+------------+-----------+-------------------+--------------------------------+-----------------+----------------+----------------+------------+--------+--------+-------------+------------+---------------+-------------------+\n",
            "|         0 |          0 |                1 |    24 |         1 |                      0 |                     0 |                  1 |        1 |          0 |         0 |                 1 |                              0 |               1 |              0 |              0 |          0 |      1 |     10 |           2 |          3 |      0.128962 |                 0 |\n",
            "+-----------+------------+------------------+-------+-----------+------------------------+-----------------------+--------------------+----------+------------+-----------+-------------------+--------------------------------+-----------------+----------------+----------------+------------+--------+--------+-------------+------------+---------------+-------------------+\n",
            "|         1 |          1 |                1 |    29 |         0 |                      1 |                     0 |                  0 |        0 |          0 |         0 |                 1 |                              0 |               5 |              0 |             30 |          1 |      0 |      8 |           5 |          1 |      0.54441  |                 1 |\n",
            "+-----------+------------+------------------+-------+-----------+------------------------+-----------------------+--------------------+----------+------------+-----------+-------------------+--------------------------------+-----------------+----------------+----------------+------------+--------+--------+-------------+------------+---------------+-------------------+\n",
            "|         1 |          0 |                1 |    21 |         0 |                      0 |                     0 |                  1 |        1 |          1 |         0 |                 1 |                              0 |               2 |              0 |              1 |          0 |      0 |      9 |           6 |          7 |      0.125886 |                 0 |\n",
            "+-----------+------------+------------------+-------+-----------+------------------------+-----------------------+--------------------+----------+------------+-----------+-------------------+--------------------------------+-----------------+----------------+----------------+------------+--------+--------+-------------+------------+---------------+-------------------+\n",
            "|         0 |          1 |                1 |    27 |         0 |                      0 |                     0 |                  1 |        1 |          1 |         0 |                 1 |                              0 |               2 |              0 |              0 |          0 |      1 |      4 |           6 |          8 |      0.11654  |                 0 |\n",
            "+-----------+------------+------------------+-------+-----------+------------------------+-----------------------+--------------------+----------+------------+-----------+-------------------+--------------------------------+-----------------+----------------+----------------+------------+--------+--------+-------------+------------+---------------+-------------------+\n"
          ]
        }
      ]
    },
    {
      "cell_type": "markdown",
      "source": [
        "# Hacemos la validación\n",
        "Para hacer las validaciones correspondientes se hizo el uso siguiendo el consejo de 80/20, donde 80% es para la fase de entrenamiento, y 20% es para la fase de prueba."
      ],
      "metadata": {
        "id": "RVoE00RERG9i"
      }
    },
    {
      "cell_type": "code",
      "source": [
        "X_norm_test = (X_test- mu) / sigma\n",
        "m_test= len(X_test)"
      ],
      "metadata": {
        "id": "gOLsd34IRK-C"
      },
      "execution_count": 61,
      "outputs": []
    },
    {
      "cell_type": "code",
      "source": [
        "X_test_ready = np.concatenate([np.ones((m_test, 1)), X_norm_test], axis=1)\n",
        "\n",
        "# imprimir todos las X_test_ready de datos solo 10\n",
        "print('{:>8s}{:>8s}{:>14s}{:>8s}{:>8s}{:>18s}{:>20s}{:>16s}{:>8s}{:>8s}{:>10s}{:>12s}{:>18s}{:>14s}{:>12s}{:>10s}{:>10s}{:>10s}{:>10s}{:>8s}{:>8s}'.format(\n",
        "    'X(0)','PA alta', 'col alta', 'control de col', 'IMC', 'fumador', 'acc. cerebrovascular', 'enfermedad cardíaca', 'actividad física', 'frutas', 'verduras', 'alcohol', 'atencion medica', 'Falta de atencion por Dinero', 'salud general', 'salud mental', 'salud física', 'caminata', 'sexo', 'edad', 'educación', 'ingresos'\n",
        "))\n",
        "\n",
        "print('-' * 280)\n",
        "\n",
        "\n",
        "for i in range(10):\n",
        "    print('{:8.0f}{:8.0f}{:14.0f}{:8.0f}{:8.0f}{:18.0f}{:20.0f}{:16.0f}{:8.0f}{:8.0f}{:10.0f}{:12.0f}{:18.0f}{:14.0f}{:12.0f}{:10.0f}{:10.0f}{:10.0f}{:10.0f}{:8.0f}{:8.0f}'.format(\n",
        "        X_test_ready[i, 0], X_test_ready[i, 1], X_test_ready[i, 2], X_test_ready[i, 3], X_test_ready[i, 4], X_test_ready[i, 5], X_test_ready[i, 6], X_test_ready[i, 7], X_test_ready[i, 8], X_test_ready[i, 9], X_test_ready[i, 10], X_test_ready[i, 11], X_test_ready[i, 12], X_test_ready[i, 13], X_test_ready[i, 14], X_test_ready[i, 15], X_test_ready[i, 16], X_test_ready[i, 17], X_test_ready[i, 18], X_test_ready[i, 19], X_test_ready[i, 20],X_test_ready[i, 21]\n",
        "    ))"
      ],
      "metadata": {
        "colab": {
          "base_uri": "https://localhost:8080/"
        },
        "id": "fQ1Kxs-8RPAo",
        "outputId": "0b93ace7-c5f5-4bd9-ce8b-7955619f2040"
      },
      "execution_count": 62,
      "outputs": [
        {
          "output_type": "stream",
          "name": "stdout",
          "text": [
            "    X(0) PA alta      col altacontrol de col     IMC           fumadoracc. cerebrovascularenfermedad cardíacaactividad física  frutas  verduras     alcohol   atencion medicaFalta de atencion por Dinerosalud generalsalud mentalsalud física  caminata      sexo    edadeducación\n",
            "----------------------------------------------------------------------------------------------------------------------------------------------------------------------------------------------------------------------------------------------------------------------------------------\n",
            "       1       1            -1       0      -0                 1                  -0              -0       1       1         0          -0                 0            -0           0        -0         1         2         1       1      -1\n",
            "       1      -1            -1       0       1                -1                  -0              -0       1       1         0          -0                 0            -0          -0         0        -1        -0         1      -0       1\n",
            "       1       1            -1       0      -0                 1                  -0              -0      -2      -1        -2           4                 0            -0          -0        -0        -1        -0         1       1       1\n",
            "       1       1             1       0      -0                 1                   5               3       1       1        -2          -0                 0             3           2         4         3         2        -1      -0      -2\n",
            "       1      -1            -1       0       0                -1                  -0              -0       1       1        -2          -0                 0            -0          -0        -0        -1        -0        -1      -1       1\n",
            "       1       1             1       0      -0                 1                  -0              -0       1       1        -2           4                 0            -0           0        -0        -1        -0         1      -0      -0\n",
            "       1      -1            -1       0      -0                -1                  -0              -0       1       1         0          -0                 0            -0          -1        -0        -1        -0        -1       0      -1\n",
            "       1       1             1       0      -0                 1                  -0              -0      -2      -1         0          -0                 0            -0          -0        -0        -1         2        -1       0      -1\n",
            "       1      -1            -1       0      -1                -1                  -0              -0       1      -1         0          -0                 0            -0          -1        -0        -1        -0        -1       1      -1\n",
            "       1       1             1       0      -1                 1                   5              -0      -2      -1         0          -0                 0            -0           2         2         1        -0        -1      -1      -0\n"
          ]
        }
      ]
    },
    {
      "cell_type": "markdown",
      "source": [
        "Calculo de Y predicha"
      ],
      "metadata": {
        "id": "E4GeFH1gRQ7v"
      }
    },
    {
      "cell_type": "code",
      "source": [
        "y_predicha =[]\n",
        "# Calculamos la Y predicha de cada fila de la matriz\n",
        "for dato in X_test_ready:\n",
        "    y_predicha.append(sigmoid(np.dot(dato, theta)))\n",
        "\n",
        "# Convertimos la lista a un array unidimensional\n",
        "y_predicha = np.array(y_predicha)\n",
        "\n",
        "#usando el umbral donde todo aquello que sea >= 0.5 sera 1, y si es menor sera 0\n",
        "y_umbral = (y_predicha >= 0.5).astype(int)\n",
        "\n",
        "# imprimir todos las X_test_ready de datos solo 10\n",
        "print('{:>8s}{:>8s}{:>14s}{:>8s}{:>8s}{:>18s}{:>20s}{:>16s}{:>8s}{:>8s}{:>10s}{:>12s}{:>18s}{:>14s}{:>12s}{:>10s}{:>10s}{:>10s}{:>10s}{:>8s}{:>8s}{:>8s}{:>8s}'.format(\n",
        "    'X(0)','PA alta', 'col alta', 'control de col', 'IMC', 'fumador', 'acc. cerebrovascular', 'enfermedad cardíaca', 'actividad física', 'frutas', 'verduras', 'alcohol', 'atencion medica', 'Falta de atencion por Dinero', 'salud general', 'salud mental', 'salud física', 'caminata', 'sexo', 'edad', 'educación', 'ingresos', 'Y', 'Umbral(Y)'\n",
        "))\n",
        "\n",
        "\n",
        "print('-' * 280)\n",
        "\n",
        "for i in range(1, 11):  # Comenzar desde 1 para omitir el índice X(0)\n",
        "    print('{:8.0f}{:8.0f}{:14.0f}{:8.0f}{:8.0f}{:18.0f}{:20.0f}{:16.0f}{:8.0f}{:8.0f}{:10.0f}{:12.0f}{:18.0f}{:14.0f}{:12.0f}{:10.0f}{:10.0f}{:10.0f}{:10.0f}{:8.0f}{:8.0f}{:8.0f}{:8.0f}'.format(\n",
        "        X_test_ready[i, 0], X_test_ready[i, 1], X_test_ready[i, 2], X_test_ready[i, 3], X_test_ready[i, 4], X_test_ready[i, 5], X_test_ready[i, 6], X_test_ready[i, 7], X_test_ready[i, 8], X_test_ready[i, 9], X_test_ready[i, 10], X_test_ready[i, 11], X_test_ready[i, 12], X_test_ready[i, 13], X_test_ready[i, 14], X_test_ready[i, 15], X_test_ready[i, 16], X_test_ready[i, 17], X_test_ready[i, 18], X_test_ready[i, 19], X_test_ready[i, 20], y_predicha[i], y_umbral[i]\n",
        "    ))"
      ],
      "metadata": {
        "colab": {
          "base_uri": "https://localhost:8080/"
        },
        "id": "-91lCETWReNc",
        "outputId": "1061abc8-d041-4c10-df97-b76d1f011224"
      },
      "execution_count": 63,
      "outputs": [
        {
          "output_type": "stream",
          "name": "stdout",
          "text": [
            "    X(0) PA alta      col altacontrol de col     IMC           fumadoracc. cerebrovascularenfermedad cardíacaactividad física  frutas  verduras     alcohol   atencion medicaFalta de atencion por Dinerosalud generalsalud mentalsalud física  caminata      sexo    edadeducacióningresos       Y\n",
            "----------------------------------------------------------------------------------------------------------------------------------------------------------------------------------------------------------------------------------------------------------------------------------------\n",
            "       1      -1            -1       0       1                -1                  -0              -0       1       1         0          -0                 0            -0          -0         0        -1        -0         1      -0       1       0       0\n",
            "       1       1            -1       0      -0                 1                  -0              -0      -2      -1        -2           4                 0            -0          -0        -0        -1        -0         1       1       1       0       0\n",
            "       1       1             1       0      -0                 1                   5               3       1       1        -2          -0                 0             3           2         4         3         2        -1      -0      -2       1       1\n",
            "       1      -1            -1       0       0                -1                  -0              -0       1       1        -2          -0                 0            -0          -0        -0        -1        -0        -1      -1       1       0       0\n",
            "       1       1             1       0      -0                 1                  -0              -0       1       1        -2           4                 0            -0           0        -0        -1        -0         1      -0      -0       0       0\n",
            "       1      -1            -1       0      -0                -1                  -0              -0       1       1         0          -0                 0            -0          -1        -0        -1        -0        -1       0      -1       0       0\n",
            "       1       1             1       0      -0                 1                  -0              -0      -2      -1         0          -0                 0            -0          -0        -0        -1         2        -1       0      -1       0       0\n",
            "       1      -1            -1       0      -1                -1                  -0              -0       1      -1         0          -0                 0            -0          -1        -0        -1        -0        -1       1      -1       0       0\n",
            "       1       1             1       0      -1                 1                   5              -0      -2      -1         0          -0                 0            -0           2         2         1        -0        -1      -1      -0       0       0\n",
            "       1      -1             1       0       1                 1                  -0              -0       1       1         0           4                 0            -0          -0        -0        -1        -0        -1       0       1       0       0\n"
          ]
        }
      ]
    },
    {
      "cell_type": "markdown",
      "source": [
        "# Calculando la precision del entrenamiento:\n",
        "se hace uso del np.mean, Calcula la media (promedio) de los valores booleanos. Dado que True se interpreta como 1 y False como 0 en operaciones aritméticas, la media resultante será la proporción de elementos iguales en y_predicha e y_test."
      ],
      "metadata": {
        "id": "aw6HQcUrRhga"
      }
    },
    {
      "cell_type": "code",
      "source": [
        "print('Precisión de entrenamiento: {:.2f} %'.format(np.mean(y_umbral == y_test) * 100))"
      ],
      "metadata": {
        "colab": {
          "base_uri": "https://localhost:8080/"
        },
        "id": "696O4qiHRqJ2",
        "outputId": "74d246fa-4e6d-4d56-c248-495e08ae5edd"
      },
      "execution_count": 64,
      "outputs": [
        {
          "output_type": "stream",
          "name": "stdout",
          "text": [
            "Precisión de entrenamiento: 86.78 %\n"
          ]
        }
      ]
    }
  ]
}